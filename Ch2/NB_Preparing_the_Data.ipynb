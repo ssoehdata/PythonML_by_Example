{
 "cells": [
  {
   "cell_type": "code",
   "execution_count": 64,
   "id": "eb08309e-6e84-48b8-a12c-bdb1a2eaabb6",
   "metadata": {},
   "outputs": [],
   "source": [
    "import numpy as np \n",
    "import pandas as pd \n",
    "import matplotlib.pyplot as plt"
   ]
  },
  {
   "cell_type": "code",
   "execution_count": 40,
   "id": "c5436ab0-5d30-4545-9b77-a5f98751f9c8",
   "metadata": {},
   "outputs": [],
   "source": [
    "# Using MovieLens 1M dataset, which contains circa 1 million ratings\n",
    "data_path = \"C:/Users/S/_devrepos/PyML_by_Example/data_for_PyML_by_Ex/ch2_datasets/ml-1m/ratings.dat\"\n",
    "\n"
   ]
  },
  {
   "cell_type": "code",
   "execution_count": 41,
   "id": "73f22cdc-ec9b-462a-879d-99c3fe4f7b7b",
   "metadata": {},
   "outputs": [],
   "source": [
    "# creating and printing the dataframe\n",
    "df = pd.read_csv(data_path, header=None, sep='::', engine='python')"
   ]
  },
  {
   "cell_type": "code",
   "execution_count": 42,
   "id": "050552d0-7855-42ae-8e90-c4b052144cf2",
   "metadata": {},
   "outputs": [],
   "source": [
    "df.columns = ['user_id', 'movie_id', 'rating', 'timestamp'] "
   ]
  },
  {
   "cell_type": "code",
   "execution_count": 43,
   "id": "e27701cd-ddd2-447a-addd-12478cea6951",
   "metadata": {},
   "outputs": [
    {
     "name": "stdout",
     "output_type": "stream",
     "text": [
      "         user_id  movie_id  rating  timestamp\n",
      "0              1      1193       5  978300760\n",
      "1              1       661       3  978302109\n",
      "2              1       914       3  978301968\n",
      "3              1      3408       4  978300275\n",
      "4              1      2355       5  978824291\n",
      "...          ...       ...     ...        ...\n",
      "1000204     6040      1091       1  956716541\n",
      "1000205     6040      1094       5  956704887\n",
      "1000206     6040       562       5  956704746\n",
      "1000207     6040      1096       4  956715648\n",
      "1000208     6040      1097       4  956715569\n",
      "\n",
      "[1000209 rows x 4 columns]\n"
     ]
    }
   ],
   "source": [
    "print(df)"
   ]
  },
  {
   "cell_type": "code",
   "execution_count": 44,
   "id": "13f9dccb-7dd1-484c-a338-19f0e53d09b9",
   "metadata": {},
   "outputs": [
    {
     "name": "stdout",
     "output_type": "stream",
     "text": [
      "Number of users: 6040\n"
     ]
    }
   ],
   "source": [
    "# viewing the number of unique viewers in the dataset of a million rows.\n",
    "n_users = df['user_id'].nunique() \n",
    "n_movies = df['movie_id'].nunique() \n",
    "print(f\"Number of users: {n_users}\")"
   ]
  },
  {
   "cell_type": "code",
   "execution_count": 45,
   "id": "6ebdd14b-b2ca-4d28-ac21-a24f11f41671",
   "metadata": {},
   "outputs": [
    {
     "name": "stdout",
     "output_type": "stream",
     "text": [
      "Number of Movies: 3706\n"
     ]
    }
   ],
   "source": [
    "print(f\"Number of Movies: {n_movies}\")"
   ]
  },
  {
   "cell_type": "code",
   "execution_count": 46,
   "id": "f9bb721e-9c06-4209-bae3-0dc454402081",
   "metadata": {},
   "outputs": [],
   "source": [
    "# creating a matrix (6040 (number of users) x 3706 (number of movies) \n",
    "# also analyzing the data distribution to check for any class imbalances\n",
    "\n",
    "def load_user_rating_data(df, n_users, n_movies): \n",
    "    data = np.zeros([n_users, n_movies], dtype=np.intc)\n",
    "    movie_id_mapping = {}\n",
    "         \n",
    "    for user_id, movie_id, rating in  zip(df['user_id'], df['movie_id'], df['rating']):               \n",
    "                user_id = int(user_id) - 1 \n",
    "                if movie_id not in movie_id_mapping:\n",
    "                    movie_id_mapping[movie_id] = len(movie_id_mapping) \n",
    "                data[user_id, movie_id_mapping[movie_id]] = rating \n",
    "    return data, movie_id_mapping \n",
    "    \n",
    "    data, movie_id_mapping = load_user_rating_data(df, n_users, n_movies)\n",
    "    values, counts = np.unique(data, return_counts=True) \n",
    "    for value, count in zip(values, counts): \n",
    "            print(f'Number of rating  {value}: {count}')\n",
    "\n",
    "     \n",
    "    "
   ]
  },
  {
   "cell_type": "code",
   "execution_count": 47,
   "id": "457a537b-3c19-4ea5-9715-4010e7393c8f",
   "metadata": {},
   "outputs": [
    {
     "name": "stdout",
     "output_type": "stream",
     "text": [
      "movie_id\n",
      "2858    3428\n",
      "260     2991\n",
      "1196    2990\n",
      "1210    2883\n",
      "480     2672\n",
      "        ... \n",
      "3458       1\n",
      "2226       1\n",
      "1815       1\n",
      "398        1\n",
      "2909       1\n",
      "Name: count, Length: 3706, dtype: int64\n"
     ]
    }
   ],
   "source": [
    "print(df['movie_id'].value_counts())"
   ]
  },
  {
   "cell_type": "code",
   "execution_count": 48,
   "id": "7b494153-4e81-4b27-9baa-e4a33517743d",
   "metadata": {},
   "outputs": [
    {
     "name": "stdout",
     "output_type": "stream",
     "text": [
      "Shape of X: (3428, 3705)\n",
      "Shape of Y: (3428,)\n"
     ]
    }
   ],
   "source": [
    "# Take the movie from the previous step with the most ratings (movie ID = 2858) as the target movie for ease of prediction validation.\n",
    "\n",
    "target_movie_id = 2858 \n",
    "data = np.zeros([n_users, n_movies], dtype=np.intc)\n",
    "data, movie_id_mapping = load_user_rating_data(df, n_users, n_movies)\n",
    "X_raw = np.delete(data, movie_id_mapping[target_movie_id], axis=1) \n",
    "Y_raw = data[:, movie_id_mapping[target_movie_id]] \n",
    "X = X_raw[Y_raw > 0 ] \n",
    "Y = Y_raw[Y_raw > 0 ] \n",
    "print('Shape of X:', X.shape)\n",
    "print('Shape of Y:', Y.shape) "
   ]
  },
  {
   "cell_type": "code",
   "execution_count": 49,
   "id": "891f7911-8aec-4454-9117-6e321f743a77",
   "metadata": {},
   "outputs": [
    {
     "name": "stdout",
     "output_type": "stream",
     "text": [
      "2853 positive samples and 575 negative samples.\n"
     ]
    }
   ],
   "source": [
    "# Movies with ratings greater than 3 will be considered as being liked (recommended).\n",
    "\n",
    "recommend = 3\n",
    "Y[Y <= recommend] = 0 \n",
    "Y[Y > recommend] = 1 \n",
    "n_pos = (Y == 1).sum() \n",
    "n_neg = ( Y == 0).sum() \n",
    "print(f'{n_pos} positive samples and {n_neg} negative samples.') "
   ]
  },
  {
   "cell_type": "code",
   "execution_count": 50,
   "id": "f277a31e-1b04-4ae4-8b00-dbf235480260",
   "metadata": {},
   "outputs": [],
   "source": [
    "# Splitting the data randomly while preserving the % of samples for each class.\n",
    "from sklearn.model_selection import train_test_split \n",
    "X_train, X_test, Y_train, Y_test = train_test_split(X, Y,\n",
    "test_size=0.2, random_state=42) "
   ]
  },
  {
   "cell_type": "code",
   "execution_count": 51,
   "id": "e46ef573-011f-45a8-923e-0f03cdcf294a",
   "metadata": {},
   "outputs": [
    {
     "name": "stdout",
     "output_type": "stream",
     "text": [
      "2742 686\n"
     ]
    }
   ],
   "source": [
    "# Check the training and testing sizes\n",
    "print(len(Y_train), len(Y_test))"
   ]
  },
  {
   "cell_type": "code",
   "execution_count": 52,
   "id": "5c358d4a-8bd7-47b8-87e9-53f22d4cbd82",
   "metadata": {},
   "outputs": [
    {
     "data": {
      "text/html": [
       "<style>#sk-container-id-2 {\n",
       "  /* Definition of color scheme common for light and dark mode */\n",
       "  --sklearn-color-text: #000;\n",
       "  --sklearn-color-text-muted: #666;\n",
       "  --sklearn-color-line: gray;\n",
       "  /* Definition of color scheme for unfitted estimators */\n",
       "  --sklearn-color-unfitted-level-0: #fff5e6;\n",
       "  --sklearn-color-unfitted-level-1: #f6e4d2;\n",
       "  --sklearn-color-unfitted-level-2: #ffe0b3;\n",
       "  --sklearn-color-unfitted-level-3: chocolate;\n",
       "  /* Definition of color scheme for fitted estimators */\n",
       "  --sklearn-color-fitted-level-0: #f0f8ff;\n",
       "  --sklearn-color-fitted-level-1: #d4ebff;\n",
       "  --sklearn-color-fitted-level-2: #b3dbfd;\n",
       "  --sklearn-color-fitted-level-3: cornflowerblue;\n",
       "\n",
       "  /* Specific color for light theme */\n",
       "  --sklearn-color-text-on-default-background: var(--sg-text-color, var(--theme-code-foreground, var(--jp-content-font-color1, black)));\n",
       "  --sklearn-color-background: var(--sg-background-color, var(--theme-background, var(--jp-layout-color0, white)));\n",
       "  --sklearn-color-border-box: var(--sg-text-color, var(--theme-code-foreground, var(--jp-content-font-color1, black)));\n",
       "  --sklearn-color-icon: #696969;\n",
       "\n",
       "  @media (prefers-color-scheme: dark) {\n",
       "    /* Redefinition of color scheme for dark theme */\n",
       "    --sklearn-color-text-on-default-background: var(--sg-text-color, var(--theme-code-foreground, var(--jp-content-font-color1, white)));\n",
       "    --sklearn-color-background: var(--sg-background-color, var(--theme-background, var(--jp-layout-color0, #111)));\n",
       "    --sklearn-color-border-box: var(--sg-text-color, var(--theme-code-foreground, var(--jp-content-font-color1, white)));\n",
       "    --sklearn-color-icon: #878787;\n",
       "  }\n",
       "}\n",
       "\n",
       "#sk-container-id-2 {\n",
       "  color: var(--sklearn-color-text);\n",
       "}\n",
       "\n",
       "#sk-container-id-2 pre {\n",
       "  padding: 0;\n",
       "}\n",
       "\n",
       "#sk-container-id-2 input.sk-hidden--visually {\n",
       "  border: 0;\n",
       "  clip: rect(1px 1px 1px 1px);\n",
       "  clip: rect(1px, 1px, 1px, 1px);\n",
       "  height: 1px;\n",
       "  margin: -1px;\n",
       "  overflow: hidden;\n",
       "  padding: 0;\n",
       "  position: absolute;\n",
       "  width: 1px;\n",
       "}\n",
       "\n",
       "#sk-container-id-2 div.sk-dashed-wrapped {\n",
       "  border: 1px dashed var(--sklearn-color-line);\n",
       "  margin: 0 0.4em 0.5em 0.4em;\n",
       "  box-sizing: border-box;\n",
       "  padding-bottom: 0.4em;\n",
       "  background-color: var(--sklearn-color-background);\n",
       "}\n",
       "\n",
       "#sk-container-id-2 div.sk-container {\n",
       "  /* jupyter's `normalize.less` sets `[hidden] { display: none; }`\n",
       "     but bootstrap.min.css set `[hidden] { display: none !important; }`\n",
       "     so we also need the `!important` here to be able to override the\n",
       "     default hidden behavior on the sphinx rendered scikit-learn.org.\n",
       "     See: https://github.com/scikit-learn/scikit-learn/issues/21755 */\n",
       "  display: inline-block !important;\n",
       "  position: relative;\n",
       "}\n",
       "\n",
       "#sk-container-id-2 div.sk-text-repr-fallback {\n",
       "  display: none;\n",
       "}\n",
       "\n",
       "div.sk-parallel-item,\n",
       "div.sk-serial,\n",
       "div.sk-item {\n",
       "  /* draw centered vertical line to link estimators */\n",
       "  background-image: linear-gradient(var(--sklearn-color-text-on-default-background), var(--sklearn-color-text-on-default-background));\n",
       "  background-size: 2px 100%;\n",
       "  background-repeat: no-repeat;\n",
       "  background-position: center center;\n",
       "}\n",
       "\n",
       "/* Parallel-specific style estimator block */\n",
       "\n",
       "#sk-container-id-2 div.sk-parallel-item::after {\n",
       "  content: \"\";\n",
       "  width: 100%;\n",
       "  border-bottom: 2px solid var(--sklearn-color-text-on-default-background);\n",
       "  flex-grow: 1;\n",
       "}\n",
       "\n",
       "#sk-container-id-2 div.sk-parallel {\n",
       "  display: flex;\n",
       "  align-items: stretch;\n",
       "  justify-content: center;\n",
       "  background-color: var(--sklearn-color-background);\n",
       "  position: relative;\n",
       "}\n",
       "\n",
       "#sk-container-id-2 div.sk-parallel-item {\n",
       "  display: flex;\n",
       "  flex-direction: column;\n",
       "}\n",
       "\n",
       "#sk-container-id-2 div.sk-parallel-item:first-child::after {\n",
       "  align-self: flex-end;\n",
       "  width: 50%;\n",
       "}\n",
       "\n",
       "#sk-container-id-2 div.sk-parallel-item:last-child::after {\n",
       "  align-self: flex-start;\n",
       "  width: 50%;\n",
       "}\n",
       "\n",
       "#sk-container-id-2 div.sk-parallel-item:only-child::after {\n",
       "  width: 0;\n",
       "}\n",
       "\n",
       "/* Serial-specific style estimator block */\n",
       "\n",
       "#sk-container-id-2 div.sk-serial {\n",
       "  display: flex;\n",
       "  flex-direction: column;\n",
       "  align-items: center;\n",
       "  background-color: var(--sklearn-color-background);\n",
       "  padding-right: 1em;\n",
       "  padding-left: 1em;\n",
       "}\n",
       "\n",
       "\n",
       "/* Toggleable style: style used for estimator/Pipeline/ColumnTransformer box that is\n",
       "clickable and can be expanded/collapsed.\n",
       "- Pipeline and ColumnTransformer use this feature and define the default style\n",
       "- Estimators will overwrite some part of the style using the `sk-estimator` class\n",
       "*/\n",
       "\n",
       "/* Pipeline and ColumnTransformer style (default) */\n",
       "\n",
       "#sk-container-id-2 div.sk-toggleable {\n",
       "  /* Default theme specific background. It is overwritten whether we have a\n",
       "  specific estimator or a Pipeline/ColumnTransformer */\n",
       "  background-color: var(--sklearn-color-background);\n",
       "}\n",
       "\n",
       "/* Toggleable label */\n",
       "#sk-container-id-2 label.sk-toggleable__label {\n",
       "  cursor: pointer;\n",
       "  display: flex;\n",
       "  width: 100%;\n",
       "  margin-bottom: 0;\n",
       "  padding: 0.5em;\n",
       "  box-sizing: border-box;\n",
       "  text-align: center;\n",
       "  align-items: start;\n",
       "  justify-content: space-between;\n",
       "  gap: 0.5em;\n",
       "}\n",
       "\n",
       "#sk-container-id-2 label.sk-toggleable__label .caption {\n",
       "  font-size: 0.6rem;\n",
       "  font-weight: lighter;\n",
       "  color: var(--sklearn-color-text-muted);\n",
       "}\n",
       "\n",
       "#sk-container-id-2 label.sk-toggleable__label-arrow:before {\n",
       "  /* Arrow on the left of the label */\n",
       "  content: \"▸\";\n",
       "  float: left;\n",
       "  margin-right: 0.25em;\n",
       "  color: var(--sklearn-color-icon);\n",
       "}\n",
       "\n",
       "#sk-container-id-2 label.sk-toggleable__label-arrow:hover:before {\n",
       "  color: var(--sklearn-color-text);\n",
       "}\n",
       "\n",
       "/* Toggleable content - dropdown */\n",
       "\n",
       "#sk-container-id-2 div.sk-toggleable__content {\n",
       "  max-height: 0;\n",
       "  max-width: 0;\n",
       "  overflow: hidden;\n",
       "  text-align: left;\n",
       "  /* unfitted */\n",
       "  background-color: var(--sklearn-color-unfitted-level-0);\n",
       "}\n",
       "\n",
       "#sk-container-id-2 div.sk-toggleable__content.fitted {\n",
       "  /* fitted */\n",
       "  background-color: var(--sklearn-color-fitted-level-0);\n",
       "}\n",
       "\n",
       "#sk-container-id-2 div.sk-toggleable__content pre {\n",
       "  margin: 0.2em;\n",
       "  border-radius: 0.25em;\n",
       "  color: var(--sklearn-color-text);\n",
       "  /* unfitted */\n",
       "  background-color: var(--sklearn-color-unfitted-level-0);\n",
       "}\n",
       "\n",
       "#sk-container-id-2 div.sk-toggleable__content.fitted pre {\n",
       "  /* unfitted */\n",
       "  background-color: var(--sklearn-color-fitted-level-0);\n",
       "}\n",
       "\n",
       "#sk-container-id-2 input.sk-toggleable__control:checked~div.sk-toggleable__content {\n",
       "  /* Expand drop-down */\n",
       "  max-height: 200px;\n",
       "  max-width: 100%;\n",
       "  overflow: auto;\n",
       "}\n",
       "\n",
       "#sk-container-id-2 input.sk-toggleable__control:checked~label.sk-toggleable__label-arrow:before {\n",
       "  content: \"▾\";\n",
       "}\n",
       "\n",
       "/* Pipeline/ColumnTransformer-specific style */\n",
       "\n",
       "#sk-container-id-2 div.sk-label input.sk-toggleable__control:checked~label.sk-toggleable__label {\n",
       "  color: var(--sklearn-color-text);\n",
       "  background-color: var(--sklearn-color-unfitted-level-2);\n",
       "}\n",
       "\n",
       "#sk-container-id-2 div.sk-label.fitted input.sk-toggleable__control:checked~label.sk-toggleable__label {\n",
       "  background-color: var(--sklearn-color-fitted-level-2);\n",
       "}\n",
       "\n",
       "/* Estimator-specific style */\n",
       "\n",
       "/* Colorize estimator box */\n",
       "#sk-container-id-2 div.sk-estimator input.sk-toggleable__control:checked~label.sk-toggleable__label {\n",
       "  /* unfitted */\n",
       "  background-color: var(--sklearn-color-unfitted-level-2);\n",
       "}\n",
       "\n",
       "#sk-container-id-2 div.sk-estimator.fitted input.sk-toggleable__control:checked~label.sk-toggleable__label {\n",
       "  /* fitted */\n",
       "  background-color: var(--sklearn-color-fitted-level-2);\n",
       "}\n",
       "\n",
       "#sk-container-id-2 div.sk-label label.sk-toggleable__label,\n",
       "#sk-container-id-2 div.sk-label label {\n",
       "  /* The background is the default theme color */\n",
       "  color: var(--sklearn-color-text-on-default-background);\n",
       "}\n",
       "\n",
       "/* On hover, darken the color of the background */\n",
       "#sk-container-id-2 div.sk-label:hover label.sk-toggleable__label {\n",
       "  color: var(--sklearn-color-text);\n",
       "  background-color: var(--sklearn-color-unfitted-level-2);\n",
       "}\n",
       "\n",
       "/* Label box, darken color on hover, fitted */\n",
       "#sk-container-id-2 div.sk-label.fitted:hover label.sk-toggleable__label.fitted {\n",
       "  color: var(--sklearn-color-text);\n",
       "  background-color: var(--sklearn-color-fitted-level-2);\n",
       "}\n",
       "\n",
       "/* Estimator label */\n",
       "\n",
       "#sk-container-id-2 div.sk-label label {\n",
       "  font-family: monospace;\n",
       "  font-weight: bold;\n",
       "  display: inline-block;\n",
       "  line-height: 1.2em;\n",
       "}\n",
       "\n",
       "#sk-container-id-2 div.sk-label-container {\n",
       "  text-align: center;\n",
       "}\n",
       "\n",
       "/* Estimator-specific */\n",
       "#sk-container-id-2 div.sk-estimator {\n",
       "  font-family: monospace;\n",
       "  border: 1px dotted var(--sklearn-color-border-box);\n",
       "  border-radius: 0.25em;\n",
       "  box-sizing: border-box;\n",
       "  margin-bottom: 0.5em;\n",
       "  /* unfitted */\n",
       "  background-color: var(--sklearn-color-unfitted-level-0);\n",
       "}\n",
       "\n",
       "#sk-container-id-2 div.sk-estimator.fitted {\n",
       "  /* fitted */\n",
       "  background-color: var(--sklearn-color-fitted-level-0);\n",
       "}\n",
       "\n",
       "/* on hover */\n",
       "#sk-container-id-2 div.sk-estimator:hover {\n",
       "  /* unfitted */\n",
       "  background-color: var(--sklearn-color-unfitted-level-2);\n",
       "}\n",
       "\n",
       "#sk-container-id-2 div.sk-estimator.fitted:hover {\n",
       "  /* fitted */\n",
       "  background-color: var(--sklearn-color-fitted-level-2);\n",
       "}\n",
       "\n",
       "/* Specification for estimator info (e.g. \"i\" and \"?\") */\n",
       "\n",
       "/* Common style for \"i\" and \"?\" */\n",
       "\n",
       ".sk-estimator-doc-link,\n",
       "a:link.sk-estimator-doc-link,\n",
       "a:visited.sk-estimator-doc-link {\n",
       "  float: right;\n",
       "  font-size: smaller;\n",
       "  line-height: 1em;\n",
       "  font-family: monospace;\n",
       "  background-color: var(--sklearn-color-background);\n",
       "  border-radius: 1em;\n",
       "  height: 1em;\n",
       "  width: 1em;\n",
       "  text-decoration: none !important;\n",
       "  margin-left: 0.5em;\n",
       "  text-align: center;\n",
       "  /* unfitted */\n",
       "  border: var(--sklearn-color-unfitted-level-1) 1pt solid;\n",
       "  color: var(--sklearn-color-unfitted-level-1);\n",
       "}\n",
       "\n",
       ".sk-estimator-doc-link.fitted,\n",
       "a:link.sk-estimator-doc-link.fitted,\n",
       "a:visited.sk-estimator-doc-link.fitted {\n",
       "  /* fitted */\n",
       "  border: var(--sklearn-color-fitted-level-1) 1pt solid;\n",
       "  color: var(--sklearn-color-fitted-level-1);\n",
       "}\n",
       "\n",
       "/* On hover */\n",
       "div.sk-estimator:hover .sk-estimator-doc-link:hover,\n",
       ".sk-estimator-doc-link:hover,\n",
       "div.sk-label-container:hover .sk-estimator-doc-link:hover,\n",
       ".sk-estimator-doc-link:hover {\n",
       "  /* unfitted */\n",
       "  background-color: var(--sklearn-color-unfitted-level-3);\n",
       "  color: var(--sklearn-color-background);\n",
       "  text-decoration: none;\n",
       "}\n",
       "\n",
       "div.sk-estimator.fitted:hover .sk-estimator-doc-link.fitted:hover,\n",
       ".sk-estimator-doc-link.fitted:hover,\n",
       "div.sk-label-container:hover .sk-estimator-doc-link.fitted:hover,\n",
       ".sk-estimator-doc-link.fitted:hover {\n",
       "  /* fitted */\n",
       "  background-color: var(--sklearn-color-fitted-level-3);\n",
       "  color: var(--sklearn-color-background);\n",
       "  text-decoration: none;\n",
       "}\n",
       "\n",
       "/* Span, style for the box shown on hovering the info icon */\n",
       ".sk-estimator-doc-link span {\n",
       "  display: none;\n",
       "  z-index: 9999;\n",
       "  position: relative;\n",
       "  font-weight: normal;\n",
       "  right: .2ex;\n",
       "  padding: .5ex;\n",
       "  margin: .5ex;\n",
       "  width: min-content;\n",
       "  min-width: 20ex;\n",
       "  max-width: 50ex;\n",
       "  color: var(--sklearn-color-text);\n",
       "  box-shadow: 2pt 2pt 4pt #999;\n",
       "  /* unfitted */\n",
       "  background: var(--sklearn-color-unfitted-level-0);\n",
       "  border: .5pt solid var(--sklearn-color-unfitted-level-3);\n",
       "}\n",
       "\n",
       ".sk-estimator-doc-link.fitted span {\n",
       "  /* fitted */\n",
       "  background: var(--sklearn-color-fitted-level-0);\n",
       "  border: var(--sklearn-color-fitted-level-3);\n",
       "}\n",
       "\n",
       ".sk-estimator-doc-link:hover span {\n",
       "  display: block;\n",
       "}\n",
       "\n",
       "/* \"?\"-specific style due to the `<a>` HTML tag */\n",
       "\n",
       "#sk-container-id-2 a.estimator_doc_link {\n",
       "  float: right;\n",
       "  font-size: 1rem;\n",
       "  line-height: 1em;\n",
       "  font-family: monospace;\n",
       "  background-color: var(--sklearn-color-background);\n",
       "  border-radius: 1rem;\n",
       "  height: 1rem;\n",
       "  width: 1rem;\n",
       "  text-decoration: none;\n",
       "  /* unfitted */\n",
       "  color: var(--sklearn-color-unfitted-level-1);\n",
       "  border: var(--sklearn-color-unfitted-level-1) 1pt solid;\n",
       "}\n",
       "\n",
       "#sk-container-id-2 a.estimator_doc_link.fitted {\n",
       "  /* fitted */\n",
       "  border: var(--sklearn-color-fitted-level-1) 1pt solid;\n",
       "  color: var(--sklearn-color-fitted-level-1);\n",
       "}\n",
       "\n",
       "/* On hover */\n",
       "#sk-container-id-2 a.estimator_doc_link:hover {\n",
       "  /* unfitted */\n",
       "  background-color: var(--sklearn-color-unfitted-level-3);\n",
       "  color: var(--sklearn-color-background);\n",
       "  text-decoration: none;\n",
       "}\n",
       "\n",
       "#sk-container-id-2 a.estimator_doc_link.fitted:hover {\n",
       "  /* fitted */\n",
       "  background-color: var(--sklearn-color-fitted-level-3);\n",
       "}\n",
       "</style><div id=\"sk-container-id-2\" class=\"sk-top-container\"><div class=\"sk-text-repr-fallback\"><pre>MultinomialNB()</pre><b>In a Jupyter environment, please rerun this cell to show the HTML representation or trust the notebook. <br />On GitHub, the HTML representation is unable to render, please try loading this page with nbviewer.org.</b></div><div class=\"sk-container\" hidden><div class=\"sk-item\"><div class=\"sk-estimator fitted sk-toggleable\"><input class=\"sk-toggleable__control sk-hidden--visually\" id=\"sk-estimator-id-2\" type=\"checkbox\" checked><label for=\"sk-estimator-id-2\" class=\"sk-toggleable__label fitted sk-toggleable__label-arrow\"><div><div>MultinomialNB</div></div><div><a class=\"sk-estimator-doc-link fitted\" rel=\"noreferrer\" target=\"_blank\" href=\"https://scikit-learn.org/1.6/modules/generated/sklearn.naive_bayes.MultinomialNB.html\">?<span>Documentation for MultinomialNB</span></a><span class=\"sk-estimator-doc-link fitted\">i<span>Fitted</span></span></div></label><div class=\"sk-toggleable__content fitted\"><pre>MultinomialNB()</pre></div> </div></div></div></div>"
      ],
      "text/plain": [
       "MultinomialNB()"
      ]
     },
     "execution_count": 52,
     "metadata": {},
     "output_type": "execute_result"
    }
   ],
   "source": [
    "# Train a Naive Bayes model on the set, with a Laplace Smoothing factor of 1.0\n",
    "from sklearn.naive_bayes import MultinomialNB \n",
    "clf = MultinomialNB(alpha=1.0, fit_prior=True) \n",
    "clf.fit(X_train, Y_train) "
   ]
  },
  {
   "cell_type": "code",
   "execution_count": 53,
   "id": "08ce3309-0446-46e8-ab13-a452d1245acd",
   "metadata": {},
   "outputs": [
    {
     "name": "stdout",
     "output_type": "stream",
     "text": [
      "[[7.50487439e-23 1.00000000e+00]\n",
      " [1.01806208e-01 8.98193792e-01]\n",
      " [3.57740570e-10 1.00000000e+00]\n",
      " [1.00000000e+00 2.94095407e-16]\n",
      " [1.00000000e+00 2.49760836e-25]\n",
      " [7.62630220e-01 2.37369780e-01]\n",
      " [3.47479627e-05 9.99965252e-01]\n",
      " [2.66075292e-11 1.00000000e+00]\n",
      " [5.88493563e-10 9.99999999e-01]\n",
      " [9.71326867e-09 9.99999990e-01]]\n"
     ]
    }
   ],
   "source": [
    "# Use the trained model to make predictions on the testing set. The predicted probabilities are output:\n",
    "prediction_prob = clf.predict_proba(X_test) \n",
    "print(prediction_prob[0:10])"
   ]
  },
  {
   "cell_type": "code",
   "execution_count": 54,
   "id": "fceecc9e-3ab8-4581-a24a-7d0e7397c73f",
   "metadata": {},
   "outputs": [
    {
     "name": "stdout",
     "output_type": "stream",
     "text": [
      "[1 1 1 0 0 0 1 1 1 1]\n"
     ]
    }
   ],
   "source": [
    "# The predicted class for  the test set.\n",
    "prediction = clf.predict(X_test) \n",
    "print(prediction[:10]) "
   ]
  },
  {
   "cell_type": "code",
   "execution_count": 55,
   "id": "3ab01eae-7884-433c-8e24-9281205e4c03",
   "metadata": {},
   "outputs": [
    {
     "name": "stdout",
     "output_type": "stream",
     "text": [
      "The accuracy on the testing set is: 71.6%\n"
     ]
    }
   ],
   "source": [
    "# Evaluating the model's performance with classification accuracy (the proportion of correct predictions). \n",
    "accuracy = clf.score(X_test, Y_test) \n",
    "print(f'The accuracy on the testing set is: {accuracy*100:.1f}%')"
   ]
  },
  {
   "cell_type": "code",
   "execution_count": 56,
   "id": "3bdec5f9-eb7f-4ae2-87b6-5d641e1858a6",
   "metadata": {},
   "outputs": [
    {
     "name": "stdout",
     "output_type": "stream",
     "text": [
      "[[ 60  47]\n",
      " [148 431]]\n"
     ]
    }
   ],
   "source": [
    "from sklearn.metrics import confusion_matrix \n",
    "print(confusion_matrix(Y_test, prediction, labels=[0, 1]))"
   ]
  },
  {
   "cell_type": "code",
   "execution_count": 57,
   "id": "92cd0605-00df-45dc-87d9-ea5a956880ec",
   "metadata": {},
   "outputs": [
    {
     "data": {
      "text/plain": [
       "0.9016736401673641"
      ]
     },
     "execution_count": 57,
     "metadata": {},
     "output_type": "execute_result"
    }
   ],
   "source": [
    "from sklearn.metrics import precision_score, recall_score, f1_score \n",
    "precision_score(Y_test, prediction, pos_label=1)"
   ]
  },
  {
   "cell_type": "code",
   "execution_count": 58,
   "id": "1950b919-f162-4d42-bcb7-958d56981b5e",
   "metadata": {},
   "outputs": [
    {
     "data": {
      "text/plain": [
       "0.7443868739205527"
      ]
     },
     "execution_count": 58,
     "metadata": {},
     "output_type": "execute_result"
    }
   ],
   "source": [
    "recall_score(Y_test, prediction, pos_label=1) "
   ]
  },
  {
   "cell_type": "code",
   "execution_count": 59,
   "id": "29c63768-f376-46cc-bcc5-384d3b404f36",
   "metadata": {},
   "outputs": [
    {
     "data": {
      "text/plain": [
       "0.815515610217597"
      ]
     },
     "execution_count": 59,
     "metadata": {},
     "output_type": "execute_result"
    }
   ],
   "source": [
    "f1_score(Y_test, prediction, pos_label=1)"
   ]
  },
  {
   "cell_type": "code",
   "execution_count": 60,
   "id": "8eb0fc23-a282-4e7f-b5d4-6bdfb627e361",
   "metadata": {},
   "outputs": [
    {
     "name": "stdout",
     "output_type": "stream",
     "text": [
      "              precision    recall  f1-score   support\n",
      "\n",
      "           0       0.29      0.56      0.38       107\n",
      "           1       0.90      0.74      0.82       579\n",
      "\n",
      "    accuracy                           0.72       686\n",
      "   macro avg       0.60      0.65      0.60       686\n",
      "weighted avg       0.81      0.72      0.75       686\n",
      "\n"
     ]
    }
   ],
   "source": [
    "from sklearn.metrics import classification_report \n",
    "report = classification_report(Y_test, prediction)  \n",
    "print(report) "
   ]
  },
  {
   "cell_type": "code",
   "execution_count": 80,
   "id": "e171687c-3c5c-4075-8999-ca6d99299a7c",
   "metadata": {},
   "outputs": [],
   "source": [
    "pos_prob = prediction_prob[:, 1]\n",
    "thresholds = np.arange(0.0, 1.1, 0.05) \n",
    "true_pos, false_pos = [0]*len(thresholds), [0]*len(thresholds) \n",
    "for pred, y in zip(pos_prob, Y_test):\n",
    "    for i, threshold in enumerate(thresholds):\n",
    "        if pred >= threshold: \n",
    "            # if truth and prediciton are both 1 \n",
    "            if y == 1: \n",
    "                true_pos[i] += 1 \n",
    "            #  if truth is 0 while prediction is 1 \n",
    "            else:\n",
    "                false_pos[i] += 1 \n",
    "        else:\n",
    "            break"
   ]
  },
  {
   "cell_type": "code",
   "execution_count": 81,
   "id": "8aad883e-c329-4094-9bba-3d4fc23420f0",
   "metadata": {},
   "outputs": [],
   "source": [
    "n_pos_test = (Y_test == 1).sum() \n",
    "n_neg_test = (Y_test == 0).sum() \n",
    "true_pos_rate = [tp / n_pos_test for tp in true_pos] \n",
    "false_pos_rate = [fp / n_neg_test for fp in false_pos]"
   ]
  },
  {
   "cell_type": "code",
   "execution_count": 85,
   "id": "c94dab9b-c2d5-4acc-8db2-7ef92ddfee9b",
   "metadata": {},
   "outputs": [
    {
     "data": {
      "image/png": "[encoded data removed]",
      "text/plain": [
       "<Figure size 640x480 with 1 Axes>"
      ]
     },
     "metadata": {},
     "output_type": "display_data"
    }
   ],
   "source": [
    "import matplotlib.pyplot as plt \n",
    "plt.figure() \n",
    "lw = 2 \n",
    "plt.plot(false_pos_rate, true_pos_rate, \n",
    "         color='darkorange', lw=lw) \n",
    "plt.plot([0, 1], [0, 1], color='navy', lw=lw, linestyle='--') \n",
    "plt.xlim([0.0, 1.0]) \n",
    "plt.ylim([0.0, 1.05]) \n",
    "plt.xlabel('False Positive Rate') \n",
    "plt.ylabel('True Positive Rate') \n",
    "plt.title('Receiver Operating Characteristic') \n",
    "plt.legend(\"Legend\",loc=\"lower right\") \n",
    "plt.show()"
   ]
  },
  {
   "cell_type": "code",
   "execution_count": 86,
   "id": "1c0f44a3-cbdd-45fe-a1f4-d2cd0ae22071",
   "metadata": {},
   "outputs": [
    {
     "data": {
      "text/plain": [
       "0.6857375752586637"
      ]
     },
     "execution_count": 86,
     "metadata": {},
     "output_type": "execute_result"
    }
   ],
   "source": [
    "from sklearn.metrics import roc_auc_score\n",
    "roc_auc_score(Y_test, pos_prob)"
   ]
  },
  {
   "cell_type": "code",
   "execution_count": null,
   "id": "014d301c-3e58-4ff7-8cd0-739621b7060d",
   "metadata": {},
   "outputs": [],
   "source": []
  }
 ],
 "metadata": {
  "kernelspec": {
   "display_name": "Python 3 (ipykernel)",
   "language": "python",
   "name": "python3"
  },
  "language_info": {
   "codemirror_mode": {
    "name": "ipython",
    "version": 3
   },
   "file_extension": ".py",
   "mimetype": "text/x-python",
   "name": "python",
   "nbconvert_exporter": "python",
   "pygments_lexer": "ipython3",
   "version": "3.10.13"
  }
 },
 "nbformat": 4,
 "nbformat_minor": 5
}
