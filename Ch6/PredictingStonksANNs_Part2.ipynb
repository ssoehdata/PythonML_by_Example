{
 "cells": [
  {
   "cell_type": "markdown",
   "id": "32232a6e-6070-421d-b87d-1ef85d13e4cd",
   "metadata": {},
   "source": [
    "# Predicting Stock Prices with Neural Networks"
   ]
  },
  {
   "cell_type": "markdown",
   "id": "29e38ea4-8f5a-4ccc-90d8-4135f44ef6aa",
   "metadata": {},
   "source": [
    "## Training a simple Neural Network"
   ]
  },
  {
   "cell_type": "code",
   "execution_count": 23,
   "id": "20f94612-f678-4fe9-a143-688a827e8254",
   "metadata": {},
   "outputs": [],
   "source": [
    "import pandas as pd \n",
    "import numpy as np \n",
    "from sklearn.preprocessing import StandardScaler\n",
    "import torch\n",
    "import torch.nn as nn"
   ]
  },
  {
   "cell_type": "code",
   "execution_count": 24,
   "id": "c564184a-b965-4caf-b473-0e1fca7238af",
   "metadata": {},
   "outputs": [],
   "source": [
    "# Reusing the feature generation function we developed\n",
    "def generate_features(df):\n",
    "    \"\"\"\n",
    "    Generate features for a stock/index based on historical price and performance\n",
    "    @param df: dataframe with columns \"Open\", \"Close\", \"High\", \"Low\", \"Volume\", \"Adj Close\"\n",
    "    @return: dataframe, data set with new features\n",
    "    \"\"\"\n",
    "    df_new = pd.DataFrame()\n",
    "    # 6 original features\n",
    "    df_new['open'] = df['Open']\n",
    "    df_new['open_1'] = df['Open'].shift(1)\n",
    "    df_new['close_1'] = df['Close'].shift(1)\n",
    "    df_new['high_1'] = df['High'].shift(1)\n",
    "    df_new['low_1'] = df['Low'].shift(1)\n",
    "    df_new['volume_1'] = df['Volume'].shift(1)\n",
    "    # 31 generated features\n",
    "    # average price\n",
    "    df_new['avg_price_5'] = df['Close'].rolling(5).mean().shift(1)\n",
    "    df_new['avg_price_30'] = df['Close'].rolling(21).mean().shift(1)\n",
    "    df_new['avg_price_365'] = df['Close'].rolling(252).mean().shift(1)\n",
    "    df_new['ratio_avg_price_5_30'] = df_new['avg_price_5'] / df_new['avg_price_30']\n",
    "    df_new['ratio_avg_price_5_365'] = df_new['avg_price_5'] / df_new['avg_price_365']\n",
    "    df_new['ratio_avg_price_30_365'] = df_new['avg_price_30'] / df_new['avg_price_365']\n",
    "    # average volume\n",
    "    df_new['avg_volume_5'] = df['Volume'].rolling(5).mean().shift(1)\n",
    "    df_new['avg_volume_30'] = df['Volume'].rolling(21).mean().shift(1)\n",
    "    df_new['avg_volume_365'] = df['Volume'].rolling(252).mean().shift(1)\n",
    "    df_new['ratio_avg_volume_5_30'] = df_new['avg_volume_5'] / df_new['avg_volume_30']\n",
    "    df_new['ratio_avg_volume_5_365'] = df_new['avg_volume_5'] / df_new['avg_volume_365']\n",
    "    df_new['ratio_avg_volume_30_365'] = df_new['avg_volume_30'] / df_new['avg_volume_365']\n",
    "    # standard deviation of prices\n",
    "    df_new['std_price_5'] = df['Close'].rolling(5).std().shift(1)\n",
    "    df_new['std_price_30'] = df['Close'].rolling(21).std().shift(1)\n",
    "    df_new['std_price_365'] = df['Close'].rolling(252).std().shift(1)\n",
    "    df_new['ratio_std_price_5_30'] = df_new['std_price_5'] / df_new['std_price_30']\n",
    "    df_new['ratio_std_price_5_365'] = df_new['std_price_5'] / df_new['std_price_365']\n",
    "    df_new['ratio_std_price_30_365'] = df_new['std_price_30'] / df_new['std_price_365']\n",
    "    # standard deviation of volumes\n",
    "    df_new['std_volume_5'] = df['Volume'].rolling(5).std().shift(1)\n",
    "    df_new['std_volume_30'] = df['Volume'].rolling(21).std().shift(1)\n",
    "    df_new['std_volume_365'] = df['Volume'].rolling(252).std().shift(1)\n",
    "    df_new['ratio_std_volume_5_30'] = df_new['std_volume_5'] / df_new['std_volume_30']\n",
    "    df_new['ratio_std_volume_5_365'] = df_new['std_volume_5'] / df_new['std_volume_365']\n",
    "    df_new['ratio_std_volume_30_365'] = df_new['std_volume_30'] / df_new['std_volume_365']\n",
    "    # # return\n",
    "    df_new['return_1'] = ((df['Close'] - df['Close'].shift(1)) / df['Close'].shift(1)).shift(1)\n",
    "    df_new['return_5'] = ((df['Close'] - df['Close'].shift(5)) / df['Close'].shift(5)).shift(1)\n",
    "    df_new['return_30'] = ((df['Close'] - df['Close'].shift(21)) / df['Close'].shift(21)).shift(1)\n",
    "    df_new['return_365'] = ((df['Close'] - df['Close'].shift(252)) / df['Close'].shift(252)).shift(1)\n",
    "    df_new['moving_avg_5'] = df_new['return_1'].rolling(5).mean().shift(1)\n",
    "    df_new['moving_avg_30'] = df_new['return_1'].rolling(21).mean().shift(1)\n",
    "    df_new['moving_avg_365'] = df_new['return_1'].rolling(252).mean().shift(1)\n",
    "    # the target\n",
    "    df_new['close'] = df['Close']\n",
    "    df_new = df_new.dropna(axis=0)\n",
    "    return df_new"
   ]
  },
  {
   "cell_type": "code",
   "execution_count": 35,
   "id": "c77b7292-2c38-4654-9678-f2b9e23f7183",
   "metadata": {},
   "outputs": [],
   "source": [
    "data_raw = pd.read_csv(r'C:\\Users\\S\\_devrepos\\PyML_by_Example\\data_for_PyML_by_Ex\\ch6_datasets\\19900101_20230630.csv', index_col='Date')\n",
    "data = generate_features(data_raw)\n",
    "start_train = '1990-01-01'\n",
    "end_train = '2022-12-31'\n",
    "\n",
    "start_test = '2023-01-01'\n",
    "end_test = '2023-06-30'\n",
    "\n",
    "data_train = data.loc[start_train:end_train]\n",
    "X_train = data_train.drop('close', axis=1).values\n",
    "y_train = data_train['close'].values\n",
    "\n",
    "data_test = data.loc[start_test:end_test]\n",
    "X_test = data_test.drop('close', axis=1).values\n",
    "y_test = data_test['close'].values"
   ]
  },
  {
   "cell_type": "code",
   "execution_count": 36,
   "id": "204e63f3-a895-491c-bcd6-a9450dbf8cff",
   "metadata": {},
   "outputs": [],
   "source": [
    "scaler = StandardScaler()\n",
    "X_scaled_train = scaler.fit_transform(X_train)\n",
    "X_scaled_test = scaler.transform(X_test)\n"
   ]
  },
  {
   "cell_type": "code",
   "execution_count": 37,
   "id": "69adda38-bff3-48c7-a8da-a33d720597af",
   "metadata": {},
   "outputs": [],
   "source": [
    "X_train_torch = torch.from_numpy(X_scaled_train.astype(np.float32))\n",
    "X_test_torch = torch.from_numpy(X_scaled_test.astype(np.float32))\n",
    "y_train = y_train.reshape(y_train.shape[0], 1)\n",
    "y_train_torch = torch.from_numpy(y_train.astype(np.float32))\n"
   ]
  },
  {
   "cell_type": "code",
   "execution_count": 38,
   "id": "22756e99-e959-4903-8b55-69afe4b0f122",
   "metadata": {},
   "outputs": [],
   "source": [
    "torch.manual_seed(42)\n",
    "model = nn.Sequential(nn.Linear(X_train.shape[1], 32),\n",
    "                      nn.ReLU(),\n",
    "                      nn.Linear(32, 1))"
   ]
  },
  {
   "cell_type": "code",
   "execution_count": 39,
   "id": "1d203f32-559e-4eaf-af7f-616761b75c5a",
   "metadata": {},
   "outputs": [],
   "source": [
    "loss_function = nn.MSELoss()\n",
    "optimizer = torch.optim.Adam(model.parameters(), lr=0.3)\n"
   ]
  },
  {
   "cell_type": "code",
   "execution_count": 46,
   "id": "060b41f5-87f5-492c-8ad1-f66f79e9826d",
   "metadata": {},
   "outputs": [],
   "source": [
    "def train_step(model, X_train, y_train, loss_function, optimizer):\n",
    "    pred_train = model(X_train)\n",
    "    loss = loss_function(pred_train, y_train)\n",
    " \n",
    "    model.zero_grad()\n",
    "    loss.backward()\n",
    "\n",
    "    optimizer.step()\n",
    "    \n",
    "    return loss.item()"
   ]
  },
  {
   "cell_type": "code",
   "execution_count": 47,
   "id": "1a6750c7-f096-42cb-bcb6-4d30bb93a8ef",
   "metadata": {},
   "outputs": [
    {
     "name": "stdout",
     "output_type": "stream",
     "text": [
      "Epoch 0 - loss: 24823446.0\n",
      "Epoch 100 - loss: 189974.203125\n",
      "Epoch 200 - loss: 52101.796875\n",
      "Epoch 300 - loss: 17848.212890625\n",
      "Epoch 400 - loss: 8928.443359375\n",
      "Epoch 500 - loss: 6498.01513671875\n",
      "Epoch 600 - loss: 5670.65283203125\n",
      "Epoch 700 - loss: 5265.5244140625\n",
      "Epoch 800 - loss: 5017.78125\n",
      "Epoch 900 - loss: 4834.38818359375\n"
     ]
    }
   ],
   "source": [
    "for epoch in range(1000):\n",
    "    loss = train_step(model, X_train_torch, y_train_torch, loss_function, optimizer)\n",
    "    \n",
    "    if epoch % 100 == 0:\n",
    "        print(f\"Epoch {epoch} - loss: {loss}\")"
   ]
  },
  {
   "cell_type": "code",
   "execution_count": 45,
   "id": "f9f52b92-af1e-488d-8dd0-aad3da7bb21b",
   "metadata": {},
   "outputs": [
    {
     "name": "stdout",
     "output_type": "stream",
     "text": [
      "MSE: 146548699.697\n",
      "MAE: 12078.821\n",
      "R^2: -224.122\n"
     ]
    }
   ],
   "source": [
    "predictions = model(X_test_torch).detach().numpy()[:, 0]\n",
    "\n",
    "from sklearn.metrics import mean_squared_error, mean_absolute_error, r2_score\n",
    "print(f'MSE: {mean_squared_error(y_test, predictions):.3f}')\n",
    "print(f'MAE: {mean_absolute_error(y_test, predictions):.3f}')\n",
    "print(f'R^2: {r2_score(y_test, predictions):.3f}')"
   ]
  },
  {
   "cell_type": "markdown",
   "id": "a6a020dd-d297-4f4c-8801-8a0df2ba7cac",
   "metadata": {},
   "source": [
    "## Fine tuning the neural network"
   ]
  },
  {
   "cell_type": "code",
   "execution_count": 48,
   "id": "650a0a00-7986-4435-84ba-f75de077c74b",
   "metadata": {},
   "outputs": [],
   "source": [
    "from torch.utils.tensorboard import SummaryWriter"
   ]
  },
  {
   "cell_type": "code",
   "execution_count": 49,
   "id": "1c87e1a6-b1df-4e78-a6d7-d0f3d61f4679",
   "metadata": {},
   "outputs": [],
   "source": [
    "hparams_config = {\n",
    "    \"hidden_size\": [16, 32],\n",
    "    \"epochs\": [100, 3000],\n",
    "    \"lr\": [0.1, 0.3]\n",
    "}"
   ]
  },
  {
   "cell_type": "code",
   "execution_count": 62,
   "id": "813a1804-c4af-4170-9bcc-3f8dd5b32488",
   "metadata": {},
   "outputs": [],
   "source": [
    "def train_validate_model(hidden_size, epochs, lr):\n",
    "    model = nn.Sequential(nn.Linear(X_train.shape[1], hidden_size),\n",
    "                          nn.ReLU(),\n",
    "                          nn.Linear(hidden_size, 1))\n",
    "    optimizer = torch.optim.Adam(model.parameters(), lr=lr)\n",
    "    # Creating the Tesorboard writer\n",
    "    writer_path = f\"runs/{experiment_num}/{hidden_size}/{epochs}/{lr}\"\n",
    "    writer = SummaryWriter(log_dir=writer_path)\n",
    "\n",
    "    for epoch in range(epochs):\n",
    "        loss = train_step(model, X_train_torch, y_train_torch, loss_function, optimizer)\n",
    "\n",
    "        predictions = model(X_test_torch).detach().numpy()[:, 0]\n",
    "        test_mse = mean_squared_error(y_test, predictions)\n",
    "\n",
    "        writer.add_scalar(\n",
    "            tag=\"train loss\",\n",
    "            scalar_value=loss,\n",
    "            global_step=epoch,\n",
    "        )\n",
    "        writer.add_scalar(\n",
    "            tag=\"test loss\",\n",
    "            scalar_value=test_mse,\n",
    "            global_step=epoch,\n",
    "        )\n",
    "\n",
    "    test_r2 = r2_score(y_test, predictions)\n",
    "    print(f'R^2: {test_r2:.3f}\\n')\n",
    "\n",
    "    # adding the hyperameters aand metrics to TensorBoard\n",
    "    \n",
    "    writer.add_hparams(\n",
    "        { \n",
    "            \"hidden_size\": hidden_size,\n",
    "            \"epochs\": epochs,\n",
    "        }, \n",
    "        {\n",
    "            \"test MSE\": test_mse,\n",
    "            \"test R^2\": test_r2,\n",
    "        },\n",
    "    )\n",
    "    \n",
    "    "
   ]
  },
  {
   "cell_type": "code",
   "execution_count": 63,
   "id": "48169731-899d-40ad-9896-c99914f44e1b",
   "metadata": {},
   "outputs": [
    {
     "name": "stdout",
     "output_type": "stream",
     "text": [
      "Experiement 1: hidden_size = 16, epochs = 100, lr = 0.1\n",
      "R^2: -0.759\n",
      "\n",
      "Experiement 2: hidden_size = 16, epochs = 100, lr = 0.3\n",
      "R^2: -3.628\n",
      "\n",
      "Experiement 3: hidden_size = 16, epochs = 3000, lr = 0.1\n",
      "R^2: 0.970\n",
      "\n",
      "Experiement 4: hidden_size = 16, epochs = 3000, lr = 0.3\n",
      "R^2: 0.973\n",
      "\n",
      "Experiement 5: hidden_size = 32, epochs = 100, lr = 0.1\n",
      "R^2: -2.360\n",
      "\n",
      "Experiement 6: hidden_size = 32, epochs = 100, lr = 0.3\n",
      "R^2: -2.286\n",
      "\n",
      "Experiement 7: hidden_size = 32, epochs = 3000, lr = 0.1\n",
      "R^2: 0.969\n",
      "\n",
      "Experiement 8: hidden_size = 32, epochs = 3000, lr = 0.3\n",
      "R^2: 0.976\n",
      "\n"
     ]
    }
   ],
   "source": [
    "torch.manual_seed(42)\n",
    "experiment_num = 0\n",
    "for hidden_size in hparams_config[\"hidden_size\"]:\n",
    "    for epochs in hparams_config[\"epochs\"]:\n",
    "        for lr in hparams_config[\"lr\"]:\n",
    "            experiment_num += 1\n",
    "            print(f\"Experiement {experiment_num}: hidden_size = {hidden_size}, epochs = {epochs}, lr = {lr}\")\n",
    "            train_validate_model(hidden_size, epochs, lr)"
   ]
  },
  {
   "cell_type": "code",
   "execution_count": 64,
   "id": "af7e7b93-881e-4bc8-818b-f443974f4fa4",
   "metadata": {},
   "outputs": [],
   "source": [
    "hidden_size = 16\n",
    "epochs = 3000\n",
    "lr = 0.3 \n",
    "best_model = nn.Sequential(nn.Linear(X_train.shape[1], hidden_size),\n",
    "                           nn.ReLU(),\n",
    "                           nn.Linear(hidden_size, 1))\n",
    "optimizer = torch.optim.Adam(best_model.parameters(), lr=lr)\n",
    "for epoch in range(epochs):\n",
    "    train_step(best_model, X_train_torch, y_train_torch, loss_function, optimizer)\n",
    "predictions = best_model(X_test_torch).detach().numpy()[:, 0]"
   ]
  },
  {
   "cell_type": "code",
   "execution_count": 70,
   "id": "ecd2925f-2291-47ce-a5fa-c51f14f2c816",
   "metadata": {},
   "outputs": [
    {
     "data": {
      "image/png": "[encoded data removed]",
      "text/plain": [
       "<Figure size 640x480 with 1 Axes>"
      ]
     },
     "metadata": {},
     "output_type": "display_data"
    }
   ],
   "source": [
    "import matplotlib.pyplot as plt\n",
    "plt.rc('xtick', labelsize=10)\n",
    "plt.rc('ytick', labelsize=10)\n",
    "plt.plot(data_test.index, y_test, c='k')\n",
    "plt.plot(data_test.index, predictions, c='b')\n",
    "plt.xticks(range(0, 130, 10), rotation=60)\n",
    "plt.xlabel('Date', fontsize=12)\n",
    "plt.ylabel('Close price', fontsize=12)\n",
    "plt.legend(['Truth', 'Neural network'], fontsize=9)\n",
    "plt.show()"
   ]
  },
  {
   "cell_type": "code",
   "execution_count": null,
   "id": "4e5babed-58af-4be5-b325-7a9f919efa84",
   "metadata": {},
   "outputs": [],
   "source": []
  }
 ],
 "metadata": {
  "kernelspec": {
   "display_name": "Python 3 (ipykernel)",
   "language": "python",
   "name": "python3"
  },
  "language_info": {
   "codemirror_mode": {
    "name": "ipython",
    "version": 3
   },
   "file_extension": ".py",
   "mimetype": "text/x-python",
   "name": "python",
   "nbconvert_exporter": "python",
   "pygments_lexer": "ipython3",
   "version": "3.10.13"
  }
 },
 "nbformat": 4,
 "nbformat_minor": 5
}
