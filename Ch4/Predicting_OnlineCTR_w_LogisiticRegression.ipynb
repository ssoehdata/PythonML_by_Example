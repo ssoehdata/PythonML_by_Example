{
 "cells": [
  {
   "cell_type": "markdown",
   "id": "bc665494-bf10-4be2-83fe-e1ccbed76759",
   "metadata": {},
   "source": [
    "# Predicting Online  Ad Click-Through  with Logistic Regression "
   ]
  },
  {
   "cell_type": "markdown",
   "id": "a3b46ae1-be49-4aea-82f2-12f9ef0e98ed",
   "metadata": {},
   "source": [
    "### One-hot encoding of the list of dictionaries containing categorical features\n",
    "#### (converting categorical feautures to numerical: one-hot encoding and ordinal encoding)"
   ]
  },
  {
   "cell_type": "code",
   "execution_count": 2,
   "id": "a6b02787-cb4e-496f-8b7c-1c11336e4f8d",
   "metadata": {},
   "outputs": [
    {
     "name": "stdout",
     "output_type": "stream",
     "text": [
      "[[0. 0. 1. 0. 0. 1.]\n",
      " [1. 0. 0. 1. 0. 0.]\n",
      " [0. 1. 0. 0. 0. 1.]\n",
      " [0. 0. 1. 0. 0. 1.]\n",
      " [0. 0. 1. 0. 1. 0.]\n",
      " [0. 1. 0. 1. 0. 0.]]\n"
     ]
    }
   ],
   "source": [
    "from sklearn.feature_extraction import DictVectorizer \n",
    "X_dict = [{'interest': 'tech', 'occupation': 'student'},\n",
    "          {'interest': 'fashion', 'occupation': 'professional'},\n",
    "          {'interest': 'sports', 'occupation': 'student'},\n",
    "          {'interest': 'tech', 'occupation': 'student'}, \n",
    "          {'interest': 'tech', 'occupation': 'retired'},\n",
    "          {'interest': 'sports', 'occupation': 'professional'}]\n",
    "dict_one_hot_encoder = DictVectorizer(sparse=False) \n",
    "X_encoded = dict_one_hot_encoder.fit_transform(X_dict) \n",
    "print(X_encoded)\n",
    "          "
   ]
  },
  {
   "cell_type": "markdown",
   "id": "41295534-9633-4cde-8d34-ee37bd1a7c8d",
   "metadata": {},
   "source": [
    "### To see the mapping:"
   ]
  },
  {
   "cell_type": "code",
   "execution_count": 3,
   "id": "b369b0a0-a5ec-4a0b-980e-14f3d3bdca94",
   "metadata": {},
   "outputs": [
    {
     "name": "stdout",
     "output_type": "stream",
     "text": [
      "{'interest=tech': 2, 'occupation=student': 5, 'interest=fashion': 0, 'occupation=professional': 3, 'interest=sports': 1, 'occupation=retired': 4}\n"
     ]
    },
    {
     "data": {
      "text/plain": [
       "{'interest=fashion': 0,\n",
       " 'interest=sports': 1,\n",
       " 'occupation=professional': 3,\n",
       " 'interest=tech': 2,\n",
       " 'occupation=retired': 4,\n",
       " 'occupation=student': 5}"
      ]
     },
     "execution_count": 3,
     "metadata": {},
     "output_type": "execute_result"
    }
   ],
   "source": [
    "print(dict_one_hot_encoder.vocabulary_) \n",
    "{'interest=fashion': 0, 'interest=sports': 1,\n",
    "'occupation=professional':3,'interest=tech':2,\n",
    "'occupation=retired': 4, 'occupation=student': 5}"
   ]
  },
  {
   "cell_type": "code",
   "execution_count": 4,
   "id": "687a81a0-80aa-402f-9ac2-04ffe473434d",
   "metadata": {},
   "outputs": [
    {
     "name": "stdout",
     "output_type": "stream",
     "text": [
      "[[0. 1. 0. 0. 1. 0.]]\n"
     ]
    }
   ],
   "source": [
    "new_dict = [{'interest': 'sports', 'occupation': 'retired'}]\n",
    "new_encoded = dict_one_hot_encoder.transform(new_dict) \n",
    "print(new_encoded) "
   ]
  },
  {
   "cell_type": "markdown",
   "id": "bbfffe05-c1ef-4c7e-9745-15c6ebf14d4a",
   "metadata": {},
   "source": [
    "#### Inverse transformation of the encoded feautures back to the original features:"
   ]
  },
  {
   "cell_type": "code",
   "execution_count": 5,
   "id": "db886f81-2835-4a15-ac88-533343e62355",
   "metadata": {},
   "outputs": [
    {
     "name": "stdout",
     "output_type": "stream",
     "text": [
      "[{'interest=sports': 1.0, 'occupation=retired': 1.0}]\n"
     ]
    }
   ],
   "source": [
    "print(dict_one_hot_encoder.inverse_transform(new_encoded))"
   ]
  },
  {
   "cell_type": "markdown",
   "id": "cea002bd-a353-46cf-9f86-ac60246b5ac2",
   "metadata": {},
   "source": [
    "#### If a new category is encountered in new data, this can be handled with DictVectorizer (needed for onehotencoder):"
   ]
  },
  {
   "cell_type": "code",
   "execution_count": 61,
   "id": "d92caa21-f975-4b30-8592-8b32c1fb734a",
   "metadata": {},
   "outputs": [
    {
     "name": "stdout",
     "output_type": "stream",
     "text": [
      "[[0. 0. 0. 0. 1. 0.]\n",
      " [0. 0. 1. 0. 0. 0.]]\n"
     ]
    }
   ],
   "source": [
    "new_dict = [{'interest': 'unknown_interest', \n",
    "            'occupation': 'retired'},\n",
    "             {'interest': 'tech', 'occupation': 'unseen_occupation'}]\n",
    "new_encoded = dict_one_hot_encoder.transform(new_dict) \n",
    "print(new_encoded)\n",
    "            "
   ]
  },
  {
   "cell_type": "markdown",
   "id": "bffb8e0c-bba2-4048-8046-8f1516705c9d",
   "metadata": {},
   "source": [
    "#### Pandas can be used to realize ordinal encoding. Ordinal encoding can be useful when you wish to transform a categorical feature\n",
    "#### with *k* possible values into a numerical feature with values ranging from 1 to k."
   ]
  },
  {
   "cell_type": "code",
   "execution_count": 62,
   "id": "3747ca4f-ce54-4cca-ad42-9f47df7d0da1",
   "metadata": {},
   "outputs": [
    {
     "name": "stdout",
     "output_type": "stream",
     "text": [
      "    score\n",
      "0     low\n",
      "1    high\n",
      "2  medium\n",
      "3  medium\n",
      "4     low\n"
     ]
    }
   ],
   "source": [
    "import pandas as pd \n",
    "df = pd.DataFrame({'score': ['low', 'high','medium', 'medium', 'low']}) \n",
    "print(df)"
   ]
  },
  {
   "cell_type": "code",
   "execution_count": 64,
   "id": "8b3c429d-19ff-48a0-bbea-fa4a88e2872c",
   "metadata": {},
   "outputs": [
    {
     "name": "stdout",
     "output_type": "stream",
     "text": [
      "   score\n",
      "0      1\n",
      "1      3\n",
      "2      2\n",
      "3      2\n",
      "4      1\n"
     ]
    },
    {
     "name": "stderr",
     "output_type": "stream",
     "text": [
      "C:\\Users\\S\\AppData\\Local\\Temp\\ipykernel_20120\\3820898620.py:2: FutureWarning: Downcasting behavior in `replace` is deprecated and will be removed in a future version. To retain the old behavior, explicitly call `result.infer_objects(copy=False)`. To opt-in to the future behavior, set `pd.set_option('future.no_silent_downcasting', True)`\n",
      "  df['score'] = df['score'].replace(mapping)\n"
     ]
    }
   ],
   "source": [
    "mapping = {'low':1, 'medium':2, 'high':3} \n",
    "df['score'] = df['score'].replace(mapping) \n",
    "print(df)\n"
   ]
  },
  {
   "cell_type": "markdown",
   "id": "4df02b0a-71cd-4c3a-8ddc-013e55551658",
   "metadata": {},
   "source": [
    "# Classifying Data with Logistic Regression"
   ]
  },
  {
   "cell_type": "markdown",
   "id": "adce42e6-6c02-42c5-9261-5871a7572074",
   "metadata": {},
   "source": [
    "#### Define the logistic function , then visualize it:"
   ]
  },
  {
   "cell_type": "code",
   "execution_count": 9,
   "id": "24ff1154-c72b-4d22-b29e-a846147d8a9b",
   "metadata": {},
   "outputs": [],
   "source": [
    "import numpy as np \n",
    "import matplotlib.pyplot as plt \n",
    "def sigmoid(input):\n",
    "    return 1.0/ (1 + np.exp(-input))\n"
   ]
  },
  {
   "cell_type": "code",
   "execution_count": 10,
   "id": "24a81bd8-74ff-4742-8a7f-160ee4a1cc21",
   "metadata": {},
   "outputs": [
    {
     "data": {
      "image/png": "[encoded data removed]",
      "text/plain": [
       "<Figure size 640x480 with 1 Axes>"
      ]
     },
     "metadata": {},
     "output_type": "display_data"
    }
   ],
   "source": [
    "z = np.linspace(-8, 8, 1000) \n",
    "y = sigmoid(z) \n",
    "plt.plot(z,y) \n",
    "plt.axhline(y=0, ls='dotted', color='k') \n",
    "plt.axhline(y=0.5, ls='dotted', color='k') \n",
    "plt.axhline(y=1, ls='dotted', color='k') \n",
    "plt.yticks([0.0, 0.25, 0.5, 0.75, 1.0]) \n",
    "plt.xlabel('z') \n",
    "plt.ylabel('y(z)') \n",
    "plt.show()"
   ]
  },
  {
   "cell_type": "markdown",
   "id": "7d559645-65da-4bcf-8f77-16cf4c18a869",
   "metadata": {},
   "source": [
    "## From the logistic function to Logistic Regression"
   ]
  },
  {
   "cell_type": "markdown",
   "id": "f3ed0bcb-eabe-47ed-93af-ebc26387e08d",
   "metadata": {},
   "source": [
    "#### Logistic Regression, like Naive Bayes, is a probablistic classifier. It has as its goal, the prediction of a positive sample\n",
    "#### as close to 1 as possible, and a negative predition as close to 0 as posssible. This is a MSE (Mean Squared Error), the average of squares\n",
    "#### for the difference between the truth and prediction. "
   ]
  },
  {
   "cell_type": "markdown",
   "id": "cf0c4910-488a-4569-a677-fa8f634e80b1",
   "metadata": {},
   "source": [
    "#### The preceding cost function is non-convex, meaning it is possible that multiple local suboptimal optimums are found, without converging \n",
    "#### to a global optimum.To overcome this , a cost-function is used that results in convex optimization (positive class  with 100% probability)."
   ]
  },
  {
   "cell_type": "code",
   "execution_count": 11,
   "id": "aa7713ba-4455-480b-9deb-bbb3993d4142",
   "metadata": {},
   "outputs": [
    {
     "data": {
      "image/png": "[encoded data removed]",
      "text/plain": [
       "<Figure size 640x480 with 1 Axes>"
      ]
     },
     "metadata": {},
     "output_type": "display_data"
    }
   ],
   "source": [
    "y_hat = np.linspace(0.001, 0.999, 1000) \n",
    "cost = -np.log(y_hat) \n",
    "plt.plot(y_hat, cost) \n",
    "plt.xlabel('Prediction') \n",
    "plt.ylabel('Cost') \n",
    "plt.xlim(0, 1) \n",
    "plt.ylim(0, 7) \n",
    "plt.show()"
   ]
  },
  {
   "cell_type": "markdown",
   "id": "03630f11-cd69-47b5-9a89-531219e47cb1",
   "metadata": {},
   "source": [
    "#### When the positive class with 0 probability , or the negative class with 100% probability is predicted, the sample cost \n",
    "####  j is 0, the cost j increases when the predicted probability \"y hat\" increases.  When  it can incorrectly predict \n",
    "#### there is no chance of the negative class, and the class becomes infinitely high. "
   ]
  },
  {
   "cell_type": "code",
   "execution_count": 12,
   "id": "801981e0-0d05-4297-93a5-78e03cafef23",
   "metadata": {},
   "outputs": [
    {
     "data": {
      "image/png": "[encoded data removed]",
      "text/plain": [
       "<Figure size 640x480 with 1 Axes>"
      ]
     },
     "metadata": {},
     "output_type": "display_data"
    }
   ],
   "source": [
    "y_hat = np.linspace(0.001, 0.999, 1000) \n",
    "cost = -np.log(1-y_hat) \n",
    "plt.plot(y_hat, cost) \n",
    "plt.xlabel('Prediction') \n",
    "plt.ylabel('Cost') \n",
    "plt.xlim(0, 1) \n",
    "plt.ylim(0, 7) \n",
    "plt.show()"
   ]
  },
  {
   "cell_type": "markdown",
   "id": "49c0295a-dac1-4ed4-978e-ca0922e59de2",
   "metadata": {},
   "source": [
    "# Training a Logistic Regression Model using Gradient Descent"
   ]
  },
  {
   "cell_type": "markdown",
   "id": "5d7aa395-f95e-4cd9-a194-c05481ebde67",
   "metadata": {},
   "source": [
    "### First define the function that computes the prediction y_hat(x) with the current weights."
   ]
  },
  {
   "cell_type": "code",
   "execution_count": 13,
   "id": "41e379c2-1559-4d0c-bf67-f0b8d31f2103",
   "metadata": {},
   "outputs": [],
   "source": [
    "def compute_prediction(X, weights):\n",
    "    \"\"\" \n",
    "    Compute the prediction y_hat based on current weights\n",
    "    \"\"\" \n",
    "    z = np.dot(X, weights) \n",
    "    return sigmoid(z) "
   ]
  },
  {
   "cell_type": "code",
   "execution_count": 14,
   "id": "83996f21-0776-4a56-bdda-e0a61d666f77",
   "metadata": {},
   "outputs": [],
   "source": [
    "def update_weights_gd(X_train, y_train, weights, learning_rate):\n",
    "\n",
    "    \"\"\" \n",
    "    Update Weights by one step     \n",
    "    \"\"\" \n",
    "    predictions = compute_prediction(X_train, weights) \n",
    "    weights_delta  = np.dot(X_train.T, y_train - predictions) \n",
    "    m = y_train.shape[0] \n",
    "    weights += learning_rate / float(m) * weights_delta\n",
    "    return weights\n",
    "    "
   ]
  },
  {
   "cell_type": "code",
   "execution_count": 15,
   "id": "978e2d9e-ac37-4486-9d76-c2e614aa640d",
   "metadata": {},
   "outputs": [],
   "source": [
    "def compute_cost(X, y, weights):\n",
    "    \"\"\" \n",
    "\n",
    "    Compute the cost J(w) \n",
    "    \"\"\" \n",
    "    predictions = compute_prediction(X, weights) \n",
    "    cost = np.mean(-y * np.log(predictions) \n",
    "                -(1-y) * np.log(1 - predictions)) \n",
    "    return cost "
   ]
  },
  {
   "cell_type": "code",
   "execution_count": 16,
   "id": "6d30b424-26c0-40e6-bd60-6863fcf74fa2",
   "metadata": {},
   "outputs": [],
   "source": [
    "def train_logistic_regression(X_train, y_train, max_iter, learning_rate, fit_intercept=False):\n",
    "\n",
    "    \"\"\" Train a logistic regression model\n",
    "    Args:\n",
    "        X_train, y_train, (numpy.ndarray, training data set) \n",
    "        max_iter (int, number of iterations) \n",
    "        learning_rate (float) \n",
    "        fit_intercept (bool, with an intercept w0 or not) \n",
    "    Returns:\n",
    "        numpy.ndarray, learned weights \n",
    "\n",
    "    \"\"\" \n",
    "\n",
    "    if fit_intercept:\n",
    "        intercept = np.ones((X_train.shape[0], 1)) \n",
    "        X_train = np.hstack((intercept, X_train)) \n",
    "    weights = np.zeros(X_train.shape[1]) \n",
    "    for iteration in range(max_iter):\n",
    "        weights = update_weights_gd(X_train, y_train, weights, learning_rate) \n",
    "\n",
    "    # Check the cost for every 100 (as an example for iteration number) iterations\n",
    "        if iteration % 100 == 0:\n",
    "            print(compute_cost(X_train, y_train, weights)) \n",
    "    return weights \n",
    "    "
   ]
  },
  {
   "cell_type": "markdown",
   "id": "29d5de50-ec36-4783-9085-2e0baac1953a",
   "metadata": {},
   "source": [
    "### predict the results of new inputs use the trained model "
   ]
  },
  {
   "cell_type": "code",
   "execution_count": 17,
   "id": "3a37abaf-f17d-407b-af8f-f983f97ad352",
   "metadata": {},
   "outputs": [],
   "source": [
    "def predict(X, weights):\n",
    "    if X.shape[1] == weights.shape[0] - 1:\n",
    "        intercept = np.ones((X.shape[0], 1)) \n",
    "        X = np.hstack((intercept, X)) \n",
    "    return compute_prediction(X, weights)"
   ]
  },
  {
   "cell_type": "markdown",
   "id": "1cc2bde0-4383-4f36-a2d9-36ebf4a317d6",
   "metadata": {},
   "source": [
    "#### toy example to demonstrate implementation of Logistic Regression "
   ]
  },
  {
   "cell_type": "code",
   "execution_count": 18,
   "id": "36059d2d-f0ea-4de8-83c4-5e7dcadae71c",
   "metadata": {},
   "outputs": [],
   "source": [
    "X_train = np.array([[6, 7], [2, 4], [3,6],[4,7],[1,6],[5,2],[2,0],[6,3],[4,1],[7,2]]) \n",
    "y_train = np.array([0, 0, 0, 0, 0, 1,1,1,1,1,])"
   ]
  },
  {
   "cell_type": "markdown",
   "id": "6a862d7a-55fb-473a-b334-721a1170a6bb",
   "metadata": {},
   "source": [
    "### Train a logistic regression model for 1000 iterations at a learning rate of 0.1 based on intercept-included-weights:"
   ]
  },
  {
   "cell_type": "code",
   "execution_count": 19,
   "id": "568c1feb-91d2-429a-80f7-07321f58f137",
   "metadata": {},
   "outputs": [
    {
     "name": "stdout",
     "output_type": "stream",
     "text": [
      "0.5744042371657099\n",
      "0.034460223392510314\n",
      "0.018265572708476157\n",
      "0.012493458388041109\n",
      "0.00951532913854744\n",
      "0.007693388060646923\n",
      "0.0064620943335143306\n",
      "0.0055735118468322594\n",
      "0.004901632254525041\n",
      "0.004375567740665121\n"
     ]
    }
   ],
   "source": [
    "weights = train_logistic_regression(X_train, y_train, \n",
    "                                    max_iter=1000, learning_rate=0.1, fit_intercept=True)"
   ]
  },
  {
   "cell_type": "markdown",
   "id": "6b9c2bda-c498-4c60-b610-9f741aceff50",
   "metadata": {},
   "source": [
    "#### The decreasing cost indicates that the model is being optimized as a function of time. The model's performance\n",
    "#### can be checked on new samples:"
   ]
  },
  {
   "cell_type": "code",
   "execution_count": 20,
   "id": "ba6c89d6-b36c-4f6b-aad7-30e2d5a10dcd",
   "metadata": {},
   "outputs": [
    {
     "name": "stdout",
     "output_type": "stream",
     "text": [
      "[0.9999478  0.00743991 0.9808652  0.02080847]\n"
     ]
    }
   ],
   "source": [
    "X_test = np.array([[6, 1], [1, 3], [3, 1],[4, 5]])\n",
    "predictions = predict(X_test, weights) \n",
    "print(predictions)"
   ]
  },
  {
   "cell_type": "markdown",
   "id": "80332df5-7be3-4b68-b774-606878a050d5",
   "metadata": {},
   "source": [
    "#### Visualization:"
   ]
  },
  {
   "cell_type": "code",
   "execution_count": 21,
   "id": "3b5030bb-1825-4933-bff7-4ccdb45c5e76",
   "metadata": {},
   "outputs": [
    {
     "data": {
      "image/png": "[encoded data removed]",
      "text/plain": [
       "<Figure size 640x480 with 1 Axes>"
      ]
     },
     "metadata": {},
     "output_type": "display_data"
    }
   ],
   "source": [
    "plt.scatter(X_train[:5,0], X_train[:5,1], c='b', marker='x') \n",
    "plt.scatter(X_train[5:,0],X_train[5:,1], c='k', marker='.') \n",
    "for i, prediction in enumerate(predictions):\n",
    "    marker = 'X' if prediction < 0.5 else 'o' \n",
    "    c = 'b' if prediction < 0.5 else 'k'  \n",
    "    plt.scatter(X_test[i,0], X_test[i,1], c=c, marker=marker)\n",
    "    #plt.show()"
   ]
  },
  {
   "cell_type": "markdown",
   "id": "33c46226-06d5-4687-8c8c-7d4a7b2090e0",
   "metadata": {},
   "source": [
    "## Predicting Ad Click-Through with Logistic Regression using Gradient Descent"
   ]
  },
  {
   "cell_type": "code",
   "execution_count": 22,
   "id": "5c9b0a37-c29c-4f65-9d48-5a44e645b4a7",
   "metadata": {},
   "outputs": [],
   "source": [
    "import pandas as pd \n",
    "n_rows = 300000\n",
    "df = pd.read_csv(r\"C:\\Users\\S\\_devrepos\\PyML_by_Example\\data_for_PyML_by_Ex\\ch4_datasets\\train.csv\", nrows=n_rows) \n",
    "X = df.drop(['click', 'id', 'hour', 'device_id', 'device_ip'], axis=1).values\n",
    "Y = df['click'].values\n",
    "n_train = 10000\n",
    "X_train = X[:n_train]\n",
    "Y_train = Y[:n_train] \n",
    "X_test = X[n_train:] \n",
    "Y_test = Y[n_train:]\n",
    "from sklearn.preprocessing import OneHotEncoder\n",
    "enc = OneHotEncoder(handle_unknown='ignore') \n",
    "X_train_enc = enc.fit_transform(X_train) \n",
    "X_test_enc = enc.transform(X_test)"
   ]
  },
  {
   "cell_type": "markdown",
   "id": "8e66af33-e20b-46c9-9e82-6bb11acdc4ee",
   "metadata": {},
   "source": [
    "### Train a logistic regression model over 10000 iterations, with the learning rate set to 0.01 with bias:"
   ]
  },
  {
   "cell_type": "code",
   "execution_count": 23,
   "id": "28cc0263-9f49-4463-9c15-7eb371e27378",
   "metadata": {},
   "outputs": [
    {
     "name": "stdout",
     "output_type": "stream",
     "text": [
      "0.6820019456743648\n",
      "0.4608619713011896\n",
      "0.4503715555130051\n",
      "0.4455503890097847\n",
      "0.4420611414384596\n",
      "0.4393702812833892\n",
      "0.437228041454526\n",
      "0.4354781787758496\n",
      "0.43401801289720104\n",
      "0.4327779028622343\n",
      "0.4317091585700226\n",
      "0.43077673019057455\n",
      "0.4299546928842355\n",
      "0.42922339559221634\n",
      "0.4285676184571522\n",
      "0.42797535312823465\n",
      "0.4274369752561037\n",
      "0.42694466897530536\n",
      "0.42649201676958726\n",
      "0.42607370031421204\n",
      "0.42568527750493995\n",
      "0.42532301300292674\n",
      "0.4249837472238756\n",
      "0.4246647935395447\n",
      "0.4243638565943513\n",
      "0.4240789667070855\n",
      "0.42380842671759145\n",
      "0.42355076859163654\n",
      "0.42330471776471257\n",
      "0.42306916368249065\n",
      "0.4228431353432208\n",
      "0.42262578090532044\n",
      "0.4224163506180466\n",
      "0.42221418248223747\n",
      "0.4220186901637542\n",
      "0.42182935277298567\n",
      "0.42164570619560027\n",
      "0.42146733571705797\n",
      "0.4212938697294381\n",
      "0.421124974346345\n",
      "0.4209603487818472\n",
      "0.4207997213740161\n",
      "0.42064284615376507\n",
      "0.42048949987620765\n",
      "0.4203394794453518\n",
      "0.4201925996741633\n",
      "0.4200486913313148\n",
      "0.4199075994336318\n",
      "0.419769181749643\n",
      "0.4196333074849702\n",
      "0.4194998561247411\n",
      "0.4193687164119304\n",
      "0.41923978544365365\n",
      "0.4191129678700612\n",
      "0.41898817518269\n",
      "0.41886532508098934\n",
      "0.41874434090732193\n",
      "0.41862515114206933\n",
      "0.418507688951615\n",
      "0.4183918917829391\n",
      "0.41827770099938916\n",
      "0.41816506155289535\n",
      "0.41805392168850386\n",
      "0.41794423267762576\n",
      "0.4178359485768415\n",
      "0.417729026009493\n",
      "0.41762342396762814\n",
      "0.41751910363215045\n",
      "0.41741602820928153\n",
      "0.41731416278166233\n",
      "0.4172134741726095\n",
      "0.41711393082221093\n",
      "0.41701550267409204\n",
      "0.41691816107180946\n",
      "0.41682187866394727\n",
      "0.4167266293170827\n",
      "0.41663238803588404\n",
      "0.41653913088967376\n",
      "0.41644683494486445\n",
      "0.41635547820272995\n",
      "0.4162650395420338\n",
      "0.4161754986660808\n",
      "0.41608683605380203\n",
      "0.4159990329145223\n",
      "0.4159120711460908\n",
      "0.4158259332960885\n",
      "0.4157406025258515\n",
      "0.41565606257707494\n",
      "0.41557229774078286\n",
      "0.4154892928284704\n",
      "0.4154070331452411\n",
      "0.4153255044647785\n",
      "0.415244693006007\n",
      "0.4151645854113068\n",
      "0.4150851687261618\n",
      "0.4150064303801305\n",
      "0.41492835816903717\n",
      "0.41485094023829017\n",
      "0.41477416506724385\n",
      "0.41469802145452467\n"
     ]
    }
   ],
   "source": [
    "import timeit \n",
    "start_time = timeit.default_timer() \n",
    "weights = train_logistic_regression(X_train_enc.toarray(),\n",
    "         Y_train, max_iter=10000, learning_rate=0.01,\n",
    "         fit_intercept=True)"
   ]
  },
  {
   "cell_type": "markdown",
   "id": "e47c6a02-7332-4ecc-ba69-a00150df5cc8",
   "metadata": {},
   "source": [
    "### Using the timeit function to time the model's optimization operation."
   ]
  },
  {
   "cell_type": "code",
   "execution_count": 24,
   "id": "22f79958-79cb-455d-b542-289921b5cdcd",
   "metadata": {},
   "outputs": [
    {
     "name": "stdout",
     "output_type": "stream",
     "text": [
      "--- 158.122 seconds ---\n"
     ]
    }
   ],
   "source": [
    "print(f\"--- {(timeit.default_timer() - start_time) :.3f} seconds ---\")"
   ]
  },
  {
   "cell_type": "code",
   "execution_count": 25,
   "id": "de956cae-7d52-41a7-9a9a-ac2b10e5e547",
   "metadata": {},
   "outputs": [
    {
     "name": "stdout",
     "output_type": "stream",
     "text": [
      "Training smaples: 10000, AUC on testing set: 0.703\n"
     ]
    }
   ],
   "source": [
    "pred = predict(X_test_enc.toarray(), weights)\n",
    "from sklearn.metrics import roc_auc_score \n",
    "print(f'Training smaples: {n_train}, AUC on testing set: {roc_auc_score(Y_test, pred):.3f}')"
   ]
  },
  {
   "cell_type": "markdown",
   "id": "17869c3f-ac13-4045-895e-f6641b832d91",
   "metadata": {},
   "source": [
    "### Using 100,000 training samples to see how it performs (n_train = 100000) and also timing it as before:"
   ]
  },
  {
   "cell_type": "code",
   "execution_count": 26,
   "id": "b742a564-69cd-4834-9aca-ba791e2eefc5",
   "metadata": {},
   "outputs": [],
   "source": [
    "#import pandas as pd \n",
    "#n_rows = 300000\n",
    "#df = pd.read_csv(r\"C:\\Users\\S\\_devrepos\\PyML_by_Example\\data_for_PyML_by_Ex\\ch4_datasets\\train.csv\", nrows=n_rows) \n",
    "#X = df.drop(['click', 'id', 'hour', 'device_id', 'device_ip'], axis=1).values\n",
    "#Y = df['click'].values\n",
    "#n_train = 100000\n",
    "#X_train = X[:n_train]\n",
    "#Y_train = Y[:n_train] \n",
    "#X_test = X[n_train:] \n",
    "#Y_test = Y[n_train:]\n",
    "#from sklearn.preprocessing import OneHotEncoder\n",
    "#enc = OneHotEncoder(handle_unknown='ignore') \n",
    "#X_train_enc = enc.fit_transform(X_train) \n",
    "#X_test_enc = enc.transform(X_test)"
   ]
  },
  {
   "cell_type": "code",
   "execution_count": 27,
   "id": "576aa1cf-732e-4334-b95f-70a8132d178a",
   "metadata": {},
   "outputs": [],
   "source": [
    "#import timeit \n",
    "#start_time = timeit.default_timer() \n",
    "#weights = train_logistic_regression(X_train_enc.toarray(),\n",
    "       #  Y_train, max_iter=100000, learning_rate=0.01,\n",
    "       #  fit_intercept=True)"
   ]
  },
  {
   "cell_type": "code",
   "execution_count": 28,
   "id": "fcc34ad1-9457-41e5-83ee-f2724bc4d022",
   "metadata": {},
   "outputs": [],
   "source": [
    "#print(f\"--- {(timeit.default_timer() - start_time) :.3f} seconds ---\")"
   ]
  },
  {
   "cell_type": "markdown",
   "id": "2ecc196c-e645-44d0-a48a-bb95e2b49a09",
   "metadata": {},
   "source": [
    "## Training a Logistic Regression Model using Stochastic Gradient Descent(SGD) "
   ]
  },
  {
   "cell_type": "markdown",
   "id": "1ab681ef-4ac7-4267-a85b-61cd436ca046",
   "metadata": {},
   "source": [
    "#### In contrast to gradient descent-based regression  models where *all* training samples are used to update the weights in every iteration, \n",
    "#### stochastic gradient descent, uses only *one* training sample for each weight update, rather than the entire training set. \n",
    "#### The model moves stepwise based on the error calculated by a single training sample. Once all samples are used, one iteration is completed. \n",
    "#### The benefit of using SGD is that it generally converges much quicker than gradient descent, making it suitable for larger training samples. "
   ]
  },
  {
   "cell_type": "markdown",
   "id": "b2cd13ac-3ab6-42d4-b10f-5f94c573712f",
   "metadata": {},
   "source": [
    "#### To implement SGD-based regression, a slight modification to the weight_update_gd function is required:"
   ]
  },
  {
   "cell_type": "code",
   "execution_count": 45,
   "id": "ebb6f9ef-87d4-47d1-bd0d-02511c7ff9a4",
   "metadata": {},
   "outputs": [],
   "source": [
    "def update_weights_sgd(X_train, y_train, weights, learning_rate): \n",
    "    \"\"\" One weight update iteration: moving weights by one step based on each individual sample \n",
    "    Args: \n",
    "    X_train, y_train (numpy, ndarray, training data set) \n",
    "    weights (numpy.ndarray) \n",
    "    learning_rate(float) \n",
    "    Returns:\n",
    "    numpy.ndarray, updated weights \n",
    "    \"\"\" \n",
    "\n",
    "    for X_each, y_each in zip(X_train, y_train):\n",
    "        prediction = compute_prediction(X_each, weights) \n",
    "        weights_delta = X_each.T * (y_each - prediction)\n",
    "        weights += learning_rate  * weights_delta\n",
    "    return weights"
   ]
  },
  {
   "cell_type": "markdown",
   "id": "99f76e69-ee97-452e-a046-9819f8a65054",
   "metadata": {},
   "source": [
    "#### Applying Stochastic Gradient Descent (SGD) in the train_logistic_regression function"
   ]
  },
  {
   "cell_type": "code",
   "execution_count": 55,
   "id": "4e5278a5-4f12-4b90-af88-570cfffc9ed1",
   "metadata": {},
   "outputs": [],
   "source": [
    "def train_logistic_regression_sgd(X_train, y_train, max_iter, learning_rate, fit_intercept=False):\n",
    "    \"\"\" Train a logistic regression model via SGD \n",
    "    Args: \n",
    "    X_train, y_train (numpy.ndarray, training data set) \n",
    "    max_iter (int, number of iterations) \n",
    "    learning_rate (float) \n",
    "    fit_intercept (bool, with an intercept w0 or not) \n",
    "    Returns: \n",
    "    numpy.ndarray, learned weights \n",
    "    \"\"\"\n",
    "    if fit_intercept:\n",
    "        intercept = np.ones((X_train.shape[0], 1))\n",
    "        X_train = np.hstack((intercept, X_train)) \n",
    "    weights = np.zeros(X_train.shape[1]) \n",
    "    for iteration in range(max_iter):\n",
    "        weights = update_weights_sgd(X_train, y_train, weights, learning_rate) \n",
    "\n",
    "        # Checking the cost for every 2 (for example) iterations\n",
    "        if iteration % 2 == 0:\n",
    "            print(compute_cost(X_train, y_train, weights)) \n",
    "    return weights\n",
    "    \n",
    "    \n",
    "    "
   ]
  },
  {
   "cell_type": "markdown",
   "id": "959a1e9a-56af-495a-80a8-e4a1d74e0883",
   "metadata": {},
   "source": [
    "#### Checking the operation time of SGD with 100,000 training samples , with 10 iterations and a learning rate of 0.01.\n",
    "#### Then printing out the current costs for every other iteration:"
   ]
  },
  {
   "cell_type": "code",
   "execution_count": 65,
   "id": "bc948272-b304-4a7b-8dc0-5f1560ca8e75",
   "metadata": {},
   "outputs": [
    {
     "name": "stdout",
     "output_type": "stream",
     "text": [
      "0.41278648596257944\n",
      "0.4078504597223988\n",
      "0.40545733114863264\n",
      "0.403811787845451\n",
      "0.4025431351250833\n",
      "--- 14.281 seconds ---\n",
      "Training samples: 100000, AUC on testing set: 0.732\n"
     ]
    }
   ],
   "source": [
    "\n",
    "# Train the SGD model based on 100000 samples\n",
    "n_train = 100000\n",
    "X_train = X[:n_train]\n",
    "Y_train = Y[:n_train]\n",
    "X_test = X[n_train:]\n",
    "Y_test = Y[n_train:]\n",
    "\n",
    "from sklearn.preprocessing import OneHotEncoder\n",
    "enc = OneHotEncoder(handle_unknown='ignore')\n",
    "X_train_enc = enc.fit_transform(X_train)\n",
    "\n",
    "X_test_enc = enc.transform(X_test)\n",
    "\n",
    "start_time = timeit.default_timer()\n",
    "weights = train_logistic_regression_sgd(X_train_enc.toarray(), Y_train, max_iter=10, learning_rate=0.01,\n",
    "                                        fit_intercept=True)\n",
    "print(f\"--- {(timeit.default_timer() - start_time):.3f} seconds ---\")\n",
    "pred = predict(X_test_enc.toarray(), weights)\n",
    "print(f'Training samples: {n_train}, AUC on testing set: {roc_auc_score(Y_test, pred):.3f}')\n",
    "\n",
    "\n",
    "\n"
   ]
  },
  {
   "cell_type": "code",
   "execution_count": 68,
   "id": "3e5167eb-20e7-4cf6-b790-19cd6102cb0e",
   "metadata": {},
   "outputs": [
    {
     "name": "stdout",
     "output_type": "stream",
     "text": [
      "Training samples: 100000, AUC on testing set: 0.731\n"
     ]
    }
   ],
   "source": [
    "# Using scikit-learn\n",
    "from sklearn.linear_model import SGDClassifier\n",
    "sgd_lr = SGDClassifier(loss='log_loss', penalty=None, fit_intercept=True, max_iter=20, learning_rate='constant', eta0=0.01)\n",
    "sgd_lr.fit(X_train_enc.toarray(), Y_train) \n",
    "pred = sgd_lr.predict_proba(X_test_enc.toarray())[:, 1]\n",
    "print(f'Training samples: {n_train}, AUC on testing set: {roc_auc_score(Y_test, pred):.3f}')\n",
    "                       "
   ]
  },
  {
   "cell_type": "markdown",
   "id": "1b4b02a5-5aff-434f-81d1-175977e95fa0",
   "metadata": {},
   "source": [
    "### Training and testing the model"
   ]
  },
  {
   "cell_type": "code",
   "execution_count": 69,
   "id": "e23960d3-13c0-44d3-bcb8-33b8f49a516b",
   "metadata": {},
   "outputs": [
    {
     "name": "stdout",
     "output_type": "stream",
     "text": [
      "Training samples: 100000, AUC on testing set: 0.727\n"
     ]
    }
   ],
   "source": [
    "sgd_lr.fit(X_train_enc.toarray(), Y_train) \n",
    "pred = sgd_lr.predict_proba(X_test_enc.toarray())[:, 1]\n",
    "print(f'Training samples: {n_train}, AUC on testing set: {roc_auc_score(Y_test, pred):.3f}')"
   ]
  },
  {
   "cell_type": "markdown",
   "id": "63319836-634d-42a1-8899-b96e730c053c",
   "metadata": {},
   "source": [
    "### Feature Selection using L1 Regularization"
   ]
  },
  {
   "cell_type": "code",
   "execution_count": 79,
   "id": "4f29b58a-7174-437a-96cd-616bd4d48de7",
   "metadata": {},
   "outputs": [
    {
     "data": {
      "text/html": [
       "<style>#sk-container-id-1 {\n",
       "  /* Definition of color scheme common for light and dark mode */\n",
       "  --sklearn-color-text: #000;\n",
       "  --sklearn-color-text-muted: #666;\n",
       "  --sklearn-color-line: gray;\n",
       "  /* Definition of color scheme for unfitted estimators */\n",
       "  --sklearn-color-unfitted-level-0: #fff5e6;\n",
       "  --sklearn-color-unfitted-level-1: #f6e4d2;\n",
       "  --sklearn-color-unfitted-level-2: #ffe0b3;\n",
       "  --sklearn-color-unfitted-level-3: chocolate;\n",
       "  /* Definition of color scheme for fitted estimators */\n",
       "  --sklearn-color-fitted-level-0: #f0f8ff;\n",
       "  --sklearn-color-fitted-level-1: #d4ebff;\n",
       "  --sklearn-color-fitted-level-2: #b3dbfd;\n",
       "  --sklearn-color-fitted-level-3: cornflowerblue;\n",
       "\n",
       "  /* Specific color for light theme */\n",
       "  --sklearn-color-text-on-default-background: var(--sg-text-color, var(--theme-code-foreground, var(--jp-content-font-color1, black)));\n",
       "  --sklearn-color-background: var(--sg-background-color, var(--theme-background, var(--jp-layout-color0, white)));\n",
       "  --sklearn-color-border-box: var(--sg-text-color, var(--theme-code-foreground, var(--jp-content-font-color1, black)));\n",
       "  --sklearn-color-icon: #696969;\n",
       "\n",
       "  @media (prefers-color-scheme: dark) {\n",
       "    /* Redefinition of color scheme for dark theme */\n",
       "    --sklearn-color-text-on-default-background: var(--sg-text-color, var(--theme-code-foreground, var(--jp-content-font-color1, white)));\n",
       "    --sklearn-color-background: var(--sg-background-color, var(--theme-background, var(--jp-layout-color0, #111)));\n",
       "    --sklearn-color-border-box: var(--sg-text-color, var(--theme-code-foreground, var(--jp-content-font-color1, white)));\n",
       "    --sklearn-color-icon: #878787;\n",
       "  }\n",
       "}\n",
       "\n",
       "#sk-container-id-1 {\n",
       "  color: var(--sklearn-color-text);\n",
       "}\n",
       "\n",
       "#sk-container-id-1 pre {\n",
       "  padding: 0;\n",
       "}\n",
       "\n",
       "#sk-container-id-1 input.sk-hidden--visually {\n",
       "  border: 0;\n",
       "  clip: rect(1px 1px 1px 1px);\n",
       "  clip: rect(1px, 1px, 1px, 1px);\n",
       "  height: 1px;\n",
       "  margin: -1px;\n",
       "  overflow: hidden;\n",
       "  padding: 0;\n",
       "  position: absolute;\n",
       "  width: 1px;\n",
       "}\n",
       "\n",
       "#sk-container-id-1 div.sk-dashed-wrapped {\n",
       "  border: 1px dashed var(--sklearn-color-line);\n",
       "  margin: 0 0.4em 0.5em 0.4em;\n",
       "  box-sizing: border-box;\n",
       "  padding-bottom: 0.4em;\n",
       "  background-color: var(--sklearn-color-background);\n",
       "}\n",
       "\n",
       "#sk-container-id-1 div.sk-container {\n",
       "  /* jupyter's `normalize.less` sets `[hidden] { display: none; }`\n",
       "     but bootstrap.min.css set `[hidden] { display: none !important; }`\n",
       "     so we also need the `!important` here to be able to override the\n",
       "     default hidden behavior on the sphinx rendered scikit-learn.org.\n",
       "     See: https://github.com/scikit-learn/scikit-learn/issues/21755 */\n",
       "  display: inline-block !important;\n",
       "  position: relative;\n",
       "}\n",
       "\n",
       "#sk-container-id-1 div.sk-text-repr-fallback {\n",
       "  display: none;\n",
       "}\n",
       "\n",
       "div.sk-parallel-item,\n",
       "div.sk-serial,\n",
       "div.sk-item {\n",
       "  /* draw centered vertical line to link estimators */\n",
       "  background-image: linear-gradient(var(--sklearn-color-text-on-default-background), var(--sklearn-color-text-on-default-background));\n",
       "  background-size: 2px 100%;\n",
       "  background-repeat: no-repeat;\n",
       "  background-position: center center;\n",
       "}\n",
       "\n",
       "/* Parallel-specific style estimator block */\n",
       "\n",
       "#sk-container-id-1 div.sk-parallel-item::after {\n",
       "  content: \"\";\n",
       "  width: 100%;\n",
       "  border-bottom: 2px solid var(--sklearn-color-text-on-default-background);\n",
       "  flex-grow: 1;\n",
       "}\n",
       "\n",
       "#sk-container-id-1 div.sk-parallel {\n",
       "  display: flex;\n",
       "  align-items: stretch;\n",
       "  justify-content: center;\n",
       "  background-color: var(--sklearn-color-background);\n",
       "  position: relative;\n",
       "}\n",
       "\n",
       "#sk-container-id-1 div.sk-parallel-item {\n",
       "  display: flex;\n",
       "  flex-direction: column;\n",
       "}\n",
       "\n",
       "#sk-container-id-1 div.sk-parallel-item:first-child::after {\n",
       "  align-self: flex-end;\n",
       "  width: 50%;\n",
       "}\n",
       "\n",
       "#sk-container-id-1 div.sk-parallel-item:last-child::after {\n",
       "  align-self: flex-start;\n",
       "  width: 50%;\n",
       "}\n",
       "\n",
       "#sk-container-id-1 div.sk-parallel-item:only-child::after {\n",
       "  width: 0;\n",
       "}\n",
       "\n",
       "/* Serial-specific style estimator block */\n",
       "\n",
       "#sk-container-id-1 div.sk-serial {\n",
       "  display: flex;\n",
       "  flex-direction: column;\n",
       "  align-items: center;\n",
       "  background-color: var(--sklearn-color-background);\n",
       "  padding-right: 1em;\n",
       "  padding-left: 1em;\n",
       "}\n",
       "\n",
       "\n",
       "/* Toggleable style: style used for estimator/Pipeline/ColumnTransformer box that is\n",
       "clickable and can be expanded/collapsed.\n",
       "- Pipeline and ColumnTransformer use this feature and define the default style\n",
       "- Estimators will overwrite some part of the style using the `sk-estimator` class\n",
       "*/\n",
       "\n",
       "/* Pipeline and ColumnTransformer style (default) */\n",
       "\n",
       "#sk-container-id-1 div.sk-toggleable {\n",
       "  /* Default theme specific background. It is overwritten whether we have a\n",
       "  specific estimator or a Pipeline/ColumnTransformer */\n",
       "  background-color: var(--sklearn-color-background);\n",
       "}\n",
       "\n",
       "/* Toggleable label */\n",
       "#sk-container-id-1 label.sk-toggleable__label {\n",
       "  cursor: pointer;\n",
       "  display: flex;\n",
       "  width: 100%;\n",
       "  margin-bottom: 0;\n",
       "  padding: 0.5em;\n",
       "  box-sizing: border-box;\n",
       "  text-align: center;\n",
       "  align-items: start;\n",
       "  justify-content: space-between;\n",
       "  gap: 0.5em;\n",
       "}\n",
       "\n",
       "#sk-container-id-1 label.sk-toggleable__label .caption {\n",
       "  font-size: 0.6rem;\n",
       "  font-weight: lighter;\n",
       "  color: var(--sklearn-color-text-muted);\n",
       "}\n",
       "\n",
       "#sk-container-id-1 label.sk-toggleable__label-arrow:before {\n",
       "  /* Arrow on the left of the label */\n",
       "  content: \"▸\";\n",
       "  float: left;\n",
       "  margin-right: 0.25em;\n",
       "  color: var(--sklearn-color-icon);\n",
       "}\n",
       "\n",
       "#sk-container-id-1 label.sk-toggleable__label-arrow:hover:before {\n",
       "  color: var(--sklearn-color-text);\n",
       "}\n",
       "\n",
       "/* Toggleable content - dropdown */\n",
       "\n",
       "#sk-container-id-1 div.sk-toggleable__content {\n",
       "  max-height: 0;\n",
       "  max-width: 0;\n",
       "  overflow: hidden;\n",
       "  text-align: left;\n",
       "  /* unfitted */\n",
       "  background-color: var(--sklearn-color-unfitted-level-0);\n",
       "}\n",
       "\n",
       "#sk-container-id-1 div.sk-toggleable__content.fitted {\n",
       "  /* fitted */\n",
       "  background-color: var(--sklearn-color-fitted-level-0);\n",
       "}\n",
       "\n",
       "#sk-container-id-1 div.sk-toggleable__content pre {\n",
       "  margin: 0.2em;\n",
       "  border-radius: 0.25em;\n",
       "  color: var(--sklearn-color-text);\n",
       "  /* unfitted */\n",
       "  background-color: var(--sklearn-color-unfitted-level-0);\n",
       "}\n",
       "\n",
       "#sk-container-id-1 div.sk-toggleable__content.fitted pre {\n",
       "  /* unfitted */\n",
       "  background-color: var(--sklearn-color-fitted-level-0);\n",
       "}\n",
       "\n",
       "#sk-container-id-1 input.sk-toggleable__control:checked~div.sk-toggleable__content {\n",
       "  /* Expand drop-down */\n",
       "  max-height: 200px;\n",
       "  max-width: 100%;\n",
       "  overflow: auto;\n",
       "}\n",
       "\n",
       "#sk-container-id-1 input.sk-toggleable__control:checked~label.sk-toggleable__label-arrow:before {\n",
       "  content: \"▾\";\n",
       "}\n",
       "\n",
       "/* Pipeline/ColumnTransformer-specific style */\n",
       "\n",
       "#sk-container-id-1 div.sk-label input.sk-toggleable__control:checked~label.sk-toggleable__label {\n",
       "  color: var(--sklearn-color-text);\n",
       "  background-color: var(--sklearn-color-unfitted-level-2);\n",
       "}\n",
       "\n",
       "#sk-container-id-1 div.sk-label.fitted input.sk-toggleable__control:checked~label.sk-toggleable__label {\n",
       "  background-color: var(--sklearn-color-fitted-level-2);\n",
       "}\n",
       "\n",
       "/* Estimator-specific style */\n",
       "\n",
       "/* Colorize estimator box */\n",
       "#sk-container-id-1 div.sk-estimator input.sk-toggleable__control:checked~label.sk-toggleable__label {\n",
       "  /* unfitted */\n",
       "  background-color: var(--sklearn-color-unfitted-level-2);\n",
       "}\n",
       "\n",
       "#sk-container-id-1 div.sk-estimator.fitted input.sk-toggleable__control:checked~label.sk-toggleable__label {\n",
       "  /* fitted */\n",
       "  background-color: var(--sklearn-color-fitted-level-2);\n",
       "}\n",
       "\n",
       "#sk-container-id-1 div.sk-label label.sk-toggleable__label,\n",
       "#sk-container-id-1 div.sk-label label {\n",
       "  /* The background is the default theme color */\n",
       "  color: var(--sklearn-color-text-on-default-background);\n",
       "}\n",
       "\n",
       "/* On hover, darken the color of the background */\n",
       "#sk-container-id-1 div.sk-label:hover label.sk-toggleable__label {\n",
       "  color: var(--sklearn-color-text);\n",
       "  background-color: var(--sklearn-color-unfitted-level-2);\n",
       "}\n",
       "\n",
       "/* Label box, darken color on hover, fitted */\n",
       "#sk-container-id-1 div.sk-label.fitted:hover label.sk-toggleable__label.fitted {\n",
       "  color: var(--sklearn-color-text);\n",
       "  background-color: var(--sklearn-color-fitted-level-2);\n",
       "}\n",
       "\n",
       "/* Estimator label */\n",
       "\n",
       "#sk-container-id-1 div.sk-label label {\n",
       "  font-family: monospace;\n",
       "  font-weight: bold;\n",
       "  display: inline-block;\n",
       "  line-height: 1.2em;\n",
       "}\n",
       "\n",
       "#sk-container-id-1 div.sk-label-container {\n",
       "  text-align: center;\n",
       "}\n",
       "\n",
       "/* Estimator-specific */\n",
       "#sk-container-id-1 div.sk-estimator {\n",
       "  font-family: monospace;\n",
       "  border: 1px dotted var(--sklearn-color-border-box);\n",
       "  border-radius: 0.25em;\n",
       "  box-sizing: border-box;\n",
       "  margin-bottom: 0.5em;\n",
       "  /* unfitted */\n",
       "  background-color: var(--sklearn-color-unfitted-level-0);\n",
       "}\n",
       "\n",
       "#sk-container-id-1 div.sk-estimator.fitted {\n",
       "  /* fitted */\n",
       "  background-color: var(--sklearn-color-fitted-level-0);\n",
       "}\n",
       "\n",
       "/* on hover */\n",
       "#sk-container-id-1 div.sk-estimator:hover {\n",
       "  /* unfitted */\n",
       "  background-color: var(--sklearn-color-unfitted-level-2);\n",
       "}\n",
       "\n",
       "#sk-container-id-1 div.sk-estimator.fitted:hover {\n",
       "  /* fitted */\n",
       "  background-color: var(--sklearn-color-fitted-level-2);\n",
       "}\n",
       "\n",
       "/* Specification for estimator info (e.g. \"i\" and \"?\") */\n",
       "\n",
       "/* Common style for \"i\" and \"?\" */\n",
       "\n",
       ".sk-estimator-doc-link,\n",
       "a:link.sk-estimator-doc-link,\n",
       "a:visited.sk-estimator-doc-link {\n",
       "  float: right;\n",
       "  font-size: smaller;\n",
       "  line-height: 1em;\n",
       "  font-family: monospace;\n",
       "  background-color: var(--sklearn-color-background);\n",
       "  border-radius: 1em;\n",
       "  height: 1em;\n",
       "  width: 1em;\n",
       "  text-decoration: none !important;\n",
       "  margin-left: 0.5em;\n",
       "  text-align: center;\n",
       "  /* unfitted */\n",
       "  border: var(--sklearn-color-unfitted-level-1) 1pt solid;\n",
       "  color: var(--sklearn-color-unfitted-level-1);\n",
       "}\n",
       "\n",
       ".sk-estimator-doc-link.fitted,\n",
       "a:link.sk-estimator-doc-link.fitted,\n",
       "a:visited.sk-estimator-doc-link.fitted {\n",
       "  /* fitted */\n",
       "  border: var(--sklearn-color-fitted-level-1) 1pt solid;\n",
       "  color: var(--sklearn-color-fitted-level-1);\n",
       "}\n",
       "\n",
       "/* On hover */\n",
       "div.sk-estimator:hover .sk-estimator-doc-link:hover,\n",
       ".sk-estimator-doc-link:hover,\n",
       "div.sk-label-container:hover .sk-estimator-doc-link:hover,\n",
       ".sk-estimator-doc-link:hover {\n",
       "  /* unfitted */\n",
       "  background-color: var(--sklearn-color-unfitted-level-3);\n",
       "  color: var(--sklearn-color-background);\n",
       "  text-decoration: none;\n",
       "}\n",
       "\n",
       "div.sk-estimator.fitted:hover .sk-estimator-doc-link.fitted:hover,\n",
       ".sk-estimator-doc-link.fitted:hover,\n",
       "div.sk-label-container:hover .sk-estimator-doc-link.fitted:hover,\n",
       ".sk-estimator-doc-link.fitted:hover {\n",
       "  /* fitted */\n",
       "  background-color: var(--sklearn-color-fitted-level-3);\n",
       "  color: var(--sklearn-color-background);\n",
       "  text-decoration: none;\n",
       "}\n",
       "\n",
       "/* Span, style for the box shown on hovering the info icon */\n",
       ".sk-estimator-doc-link span {\n",
       "  display: none;\n",
       "  z-index: 9999;\n",
       "  position: relative;\n",
       "  font-weight: normal;\n",
       "  right: .2ex;\n",
       "  padding: .5ex;\n",
       "  margin: .5ex;\n",
       "  width: min-content;\n",
       "  min-width: 20ex;\n",
       "  max-width: 50ex;\n",
       "  color: var(--sklearn-color-text);\n",
       "  box-shadow: 2pt 2pt 4pt #999;\n",
       "  /* unfitted */\n",
       "  background: var(--sklearn-color-unfitted-level-0);\n",
       "  border: .5pt solid var(--sklearn-color-unfitted-level-3);\n",
       "}\n",
       "\n",
       ".sk-estimator-doc-link.fitted span {\n",
       "  /* fitted */\n",
       "  background: var(--sklearn-color-fitted-level-0);\n",
       "  border: var(--sklearn-color-fitted-level-3);\n",
       "}\n",
       "\n",
       ".sk-estimator-doc-link:hover span {\n",
       "  display: block;\n",
       "}\n",
       "\n",
       "/* \"?\"-specific style due to the `<a>` HTML tag */\n",
       "\n",
       "#sk-container-id-1 a.estimator_doc_link {\n",
       "  float: right;\n",
       "  font-size: 1rem;\n",
       "  line-height: 1em;\n",
       "  font-family: monospace;\n",
       "  background-color: var(--sklearn-color-background);\n",
       "  border-radius: 1rem;\n",
       "  height: 1rem;\n",
       "  width: 1rem;\n",
       "  text-decoration: none;\n",
       "  /* unfitted */\n",
       "  color: var(--sklearn-color-unfitted-level-1);\n",
       "  border: var(--sklearn-color-unfitted-level-1) 1pt solid;\n",
       "}\n",
       "\n",
       "#sk-container-id-1 a.estimator_doc_link.fitted {\n",
       "  /* fitted */\n",
       "  border: var(--sklearn-color-fitted-level-1) 1pt solid;\n",
       "  color: var(--sklearn-color-fitted-level-1);\n",
       "}\n",
       "\n",
       "/* On hover */\n",
       "#sk-container-id-1 a.estimator_doc_link:hover {\n",
       "  /* unfitted */\n",
       "  background-color: var(--sklearn-color-unfitted-level-3);\n",
       "  color: var(--sklearn-color-background);\n",
       "  text-decoration: none;\n",
       "}\n",
       "\n",
       "#sk-container-id-1 a.estimator_doc_link.fitted:hover {\n",
       "  /* fitted */\n",
       "  background-color: var(--sklearn-color-fitted-level-3);\n",
       "}\n",
       "</style><div id=\"sk-container-id-1\" class=\"sk-top-container\"><div class=\"sk-text-repr-fallback\"><pre>SGDClassifier(eta0=0.01, learning_rate=&#x27;constant&#x27;, loss=&#x27;log_loss&#x27;, max_iter=10,\n",
       "              penalty=&#x27;l1&#x27;, random_state=42)</pre><b>In a Jupyter environment, please rerun this cell to show the HTML representation or trust the notebook. <br />On GitHub, the HTML representation is unable to render, please try loading this page with nbviewer.org.</b></div><div class=\"sk-container\" hidden><div class=\"sk-item\"><div class=\"sk-estimator fitted sk-toggleable\"><input class=\"sk-toggleable__control sk-hidden--visually\" id=\"sk-estimator-id-1\" type=\"checkbox\" checked><label for=\"sk-estimator-id-1\" class=\"sk-toggleable__label fitted sk-toggleable__label-arrow\"><div><div>SGDClassifier</div></div><div><a class=\"sk-estimator-doc-link fitted\" rel=\"noreferrer\" target=\"_blank\" href=\"https://scikit-learn.org/1.6/modules/generated/sklearn.linear_model.SGDClassifier.html\">?<span>Documentation for SGDClassifier</span></a><span class=\"sk-estimator-doc-link fitted\">i<span>Fitted</span></span></div></label><div class=\"sk-toggleable__content fitted\"><pre>SGDClassifier(eta0=0.01, learning_rate=&#x27;constant&#x27;, loss=&#x27;log_loss&#x27;, max_iter=10,\n",
       "              penalty=&#x27;l1&#x27;, random_state=42)</pre></div> </div></div></div></div>"
      ],
      "text/plain": [
       "SGDClassifier(eta0=0.01, learning_rate='constant', loss='log_loss', max_iter=10,\n",
       "              penalty='l1', random_state=42)"
      ]
     },
     "execution_count": 79,
     "metadata": {},
     "output_type": "execute_result"
    }
   ],
   "source": [
    "sgd_lr_l1 = SGDClassifier(loss='log_loss',\n",
    "                          penalty='l1',\n",
    "                          alpha=0.0001,\n",
    "                          fit_intercept=True,\n",
    "                          max_iter=10,\n",
    "                          learning_rate='constant',\n",
    "                          eta0=0.01,\n",
    "                          random_state=42)\n",
    "sgd_lr_l1.fit(X_train_enc.toarray(), Y_train)"
   ]
  },
  {
   "cell_type": "markdown",
   "id": "608ca910-5619-497d-a537-b4a0d81f0c8e",
   "metadata": {},
   "source": [
    "#### With the trained model , the absolute values of its coefficients are obtained:"
   ]
  },
  {
   "cell_type": "code",
   "execution_count": 80,
   "id": "dbf2db30-322d-41eb-92ac-aae250be4964",
   "metadata": {},
   "outputs": [
    {
     "name": "stdout",
     "output_type": "stream",
     "text": [
      "[[0.         0.16654682 0.         ... 0.         0.         0.12803394]]\n"
     ]
    }
   ],
   "source": [
    "coef_abs = np.abs(sgd_lr_l1.coef_)\n",
    "print(coef_abs)\n"
   ]
  },
  {
   "cell_type": "markdown",
   "id": "6a53c6f7-d9ef-402e-8b45-0901052881a4",
   "metadata": {},
   "source": [
    "#### The bottom 10 coefficients and their values can be printed out:"
   ]
  },
  {
   "cell_type": "code",
   "execution_count": 89,
   "id": "97a1546e-50e5-4644-9685-b9e29c42cb48",
   "metadata": {},
   "outputs": [
    {
     "name": "stdout",
     "output_type": "stream",
     "text": [
      "[0. 0. 0. 0. 0. 0. 0. 0. 0. 0.]\n"
     ]
    }
   ],
   "source": [
    "print(np.sort(coef_abs)[0][:10])\n",
    "bottom_10 = np.argsort(coef_abs)[0][:10]"
   ]
  },
  {
   "cell_type": "code",
   "execution_count": null,
   "id": "8d0ae64d-686a-43a5-a238-f5e01e81971d",
   "metadata": {},
   "outputs": [],
   "source": []
  },
  {
   "cell_type": "markdown",
   "id": "2f655cce-fd83-4a26-91da-163b3e1ab714",
   "metadata": {},
   "source": [
    "#### We can see what these 10 features are using in this manner:"
   ]
  },
  {
   "cell_type": "code",
   "execution_count": 90,
   "id": "b1584cae-fa37-4a54-aeeb-f974f47a7fa6",
   "metadata": {},
   "outputs": [
    {
     "name": "stdout",
     "output_type": "stream",
     "text": [
      "10 least important features are:\n",
      " ['x0_1001' 'x8_84c2f017' 'x8_84ace234' 'x8_84a9d4ba' 'x8_84915a27'\n",
      " 'x8_8441e1f3' 'x8_840161a0' 'x8_83fbdb80' 'x8_83fb63cd' 'x8_83ed0b87']\n"
     ]
    }
   ],
   "source": [
    "feature_names = enc.get_feature_names_out() \n",
    "bottom_10 = np.argsort(coef_abs)[0][:10]\n",
    "print('10 least important features are:\\n', feature_names[bottom_10])\n"
   ]
  },
  {
   "cell_type": "markdown",
   "id": "cf803132-df3e-4162-95f9-0b280f89f5ff",
   "metadata": {},
   "source": [
    "#### In a similar fashion we can see the top 10 coefficients and their values:"
   ]
  },
  {
   "cell_type": "code",
   "execution_count": 91,
   "id": "cf792123-98d8-49e5-90d1-e70d37262d6a",
   "metadata": {},
   "outputs": [
    {
     "name": "stdout",
     "output_type": "stream",
     "text": [
      "10 most important features are:\n",
      " ['x4_28905ebd' 'x3_7687a86e' 'x18_61' 'x18_15' 'x5_5e3f096f' 'x5_9c13b419'\n",
      " 'x2_763a42b5' 'x3_27e3c518' 'x2_d9750ee7' 'x5_1779deee']\n"
     ]
    }
   ],
   "source": [
    "top_10 = np.argsort(coef_abs)[0][-10:]\n",
    "print('10 most important features are:\\n', feature_names[top_10])"
   ]
  },
  {
   "cell_type": "markdown",
   "id": "fe68ec0a-a903-4118-80a0-d43f654166c1",
   "metadata": {},
   "source": [
    "## Feature Selection using Random Forest"
   ]
  },
  {
   "cell_type": "markdown",
   "id": "f952dbfc-cbfb-493f-b4c7-9a7bd8dc7995",
   "metadata": {},
   "source": [
    "#### The trained RandomForestClassifier in Scikitlearn comes with an attribute, feature_importances_, which indicates \n",
    "#### the feature importance that is calculated as the proportion of occurrences in tree nodes. \n",
    "### using 100,000 ad click samples we get:"
   ]
  },
  {
   "cell_type": "code",
   "execution_count": 92,
   "id": "096b1d3b-9a51-405b-8875-c8294264109c",
   "metadata": {},
   "outputs": [
    {
     "data": {
      "text/html": [
       "<style>#sk-container-id-2 {\n",
       "  /* Definition of color scheme common for light and dark mode */\n",
       "  --sklearn-color-text: #000;\n",
       "  --sklearn-color-text-muted: #666;\n",
       "  --sklearn-color-line: gray;\n",
       "  /* Definition of color scheme for unfitted estimators */\n",
       "  --sklearn-color-unfitted-level-0: #fff5e6;\n",
       "  --sklearn-color-unfitted-level-1: #f6e4d2;\n",
       "  --sklearn-color-unfitted-level-2: #ffe0b3;\n",
       "  --sklearn-color-unfitted-level-3: chocolate;\n",
       "  /* Definition of color scheme for fitted estimators */\n",
       "  --sklearn-color-fitted-level-0: #f0f8ff;\n",
       "  --sklearn-color-fitted-level-1: #d4ebff;\n",
       "  --sklearn-color-fitted-level-2: #b3dbfd;\n",
       "  --sklearn-color-fitted-level-3: cornflowerblue;\n",
       "\n",
       "  /* Specific color for light theme */\n",
       "  --sklearn-color-text-on-default-background: var(--sg-text-color, var(--theme-code-foreground, var(--jp-content-font-color1, black)));\n",
       "  --sklearn-color-background: var(--sg-background-color, var(--theme-background, var(--jp-layout-color0, white)));\n",
       "  --sklearn-color-border-box: var(--sg-text-color, var(--theme-code-foreground, var(--jp-content-font-color1, black)));\n",
       "  --sklearn-color-icon: #696969;\n",
       "\n",
       "  @media (prefers-color-scheme: dark) {\n",
       "    /* Redefinition of color scheme for dark theme */\n",
       "    --sklearn-color-text-on-default-background: var(--sg-text-color, var(--theme-code-foreground, var(--jp-content-font-color1, white)));\n",
       "    --sklearn-color-background: var(--sg-background-color, var(--theme-background, var(--jp-layout-color0, #111)));\n",
       "    --sklearn-color-border-box: var(--sg-text-color, var(--theme-code-foreground, var(--jp-content-font-color1, white)));\n",
       "    --sklearn-color-icon: #878787;\n",
       "  }\n",
       "}\n",
       "\n",
       "#sk-container-id-2 {\n",
       "  color: var(--sklearn-color-text);\n",
       "}\n",
       "\n",
       "#sk-container-id-2 pre {\n",
       "  padding: 0;\n",
       "}\n",
       "\n",
       "#sk-container-id-2 input.sk-hidden--visually {\n",
       "  border: 0;\n",
       "  clip: rect(1px 1px 1px 1px);\n",
       "  clip: rect(1px, 1px, 1px, 1px);\n",
       "  height: 1px;\n",
       "  margin: -1px;\n",
       "  overflow: hidden;\n",
       "  padding: 0;\n",
       "  position: absolute;\n",
       "  width: 1px;\n",
       "}\n",
       "\n",
       "#sk-container-id-2 div.sk-dashed-wrapped {\n",
       "  border: 1px dashed var(--sklearn-color-line);\n",
       "  margin: 0 0.4em 0.5em 0.4em;\n",
       "  box-sizing: border-box;\n",
       "  padding-bottom: 0.4em;\n",
       "  background-color: var(--sklearn-color-background);\n",
       "}\n",
       "\n",
       "#sk-container-id-2 div.sk-container {\n",
       "  /* jupyter's `normalize.less` sets `[hidden] { display: none; }`\n",
       "     but bootstrap.min.css set `[hidden] { display: none !important; }`\n",
       "     so we also need the `!important` here to be able to override the\n",
       "     default hidden behavior on the sphinx rendered scikit-learn.org.\n",
       "     See: https://github.com/scikit-learn/scikit-learn/issues/21755 */\n",
       "  display: inline-block !important;\n",
       "  position: relative;\n",
       "}\n",
       "\n",
       "#sk-container-id-2 div.sk-text-repr-fallback {\n",
       "  display: none;\n",
       "}\n",
       "\n",
       "div.sk-parallel-item,\n",
       "div.sk-serial,\n",
       "div.sk-item {\n",
       "  /* draw centered vertical line to link estimators */\n",
       "  background-image: linear-gradient(var(--sklearn-color-text-on-default-background), var(--sklearn-color-text-on-default-background));\n",
       "  background-size: 2px 100%;\n",
       "  background-repeat: no-repeat;\n",
       "  background-position: center center;\n",
       "}\n",
       "\n",
       "/* Parallel-specific style estimator block */\n",
       "\n",
       "#sk-container-id-2 div.sk-parallel-item::after {\n",
       "  content: \"\";\n",
       "  width: 100%;\n",
       "  border-bottom: 2px solid var(--sklearn-color-text-on-default-background);\n",
       "  flex-grow: 1;\n",
       "}\n",
       "\n",
       "#sk-container-id-2 div.sk-parallel {\n",
       "  display: flex;\n",
       "  align-items: stretch;\n",
       "  justify-content: center;\n",
       "  background-color: var(--sklearn-color-background);\n",
       "  position: relative;\n",
       "}\n",
       "\n",
       "#sk-container-id-2 div.sk-parallel-item {\n",
       "  display: flex;\n",
       "  flex-direction: column;\n",
       "}\n",
       "\n",
       "#sk-container-id-2 div.sk-parallel-item:first-child::after {\n",
       "  align-self: flex-end;\n",
       "  width: 50%;\n",
       "}\n",
       "\n",
       "#sk-container-id-2 div.sk-parallel-item:last-child::after {\n",
       "  align-self: flex-start;\n",
       "  width: 50%;\n",
       "}\n",
       "\n",
       "#sk-container-id-2 div.sk-parallel-item:only-child::after {\n",
       "  width: 0;\n",
       "}\n",
       "\n",
       "/* Serial-specific style estimator block */\n",
       "\n",
       "#sk-container-id-2 div.sk-serial {\n",
       "  display: flex;\n",
       "  flex-direction: column;\n",
       "  align-items: center;\n",
       "  background-color: var(--sklearn-color-background);\n",
       "  padding-right: 1em;\n",
       "  padding-left: 1em;\n",
       "}\n",
       "\n",
       "\n",
       "/* Toggleable style: style used for estimator/Pipeline/ColumnTransformer box that is\n",
       "clickable and can be expanded/collapsed.\n",
       "- Pipeline and ColumnTransformer use this feature and define the default style\n",
       "- Estimators will overwrite some part of the style using the `sk-estimator` class\n",
       "*/\n",
       "\n",
       "/* Pipeline and ColumnTransformer style (default) */\n",
       "\n",
       "#sk-container-id-2 div.sk-toggleable {\n",
       "  /* Default theme specific background. It is overwritten whether we have a\n",
       "  specific estimator or a Pipeline/ColumnTransformer */\n",
       "  background-color: var(--sklearn-color-background);\n",
       "}\n",
       "\n",
       "/* Toggleable label */\n",
       "#sk-container-id-2 label.sk-toggleable__label {\n",
       "  cursor: pointer;\n",
       "  display: flex;\n",
       "  width: 100%;\n",
       "  margin-bottom: 0;\n",
       "  padding: 0.5em;\n",
       "  box-sizing: border-box;\n",
       "  text-align: center;\n",
       "  align-items: start;\n",
       "  justify-content: space-between;\n",
       "  gap: 0.5em;\n",
       "}\n",
       "\n",
       "#sk-container-id-2 label.sk-toggleable__label .caption {\n",
       "  font-size: 0.6rem;\n",
       "  font-weight: lighter;\n",
       "  color: var(--sklearn-color-text-muted);\n",
       "}\n",
       "\n",
       "#sk-container-id-2 label.sk-toggleable__label-arrow:before {\n",
       "  /* Arrow on the left of the label */\n",
       "  content: \"▸\";\n",
       "  float: left;\n",
       "  margin-right: 0.25em;\n",
       "  color: var(--sklearn-color-icon);\n",
       "}\n",
       "\n",
       "#sk-container-id-2 label.sk-toggleable__label-arrow:hover:before {\n",
       "  color: var(--sklearn-color-text);\n",
       "}\n",
       "\n",
       "/* Toggleable content - dropdown */\n",
       "\n",
       "#sk-container-id-2 div.sk-toggleable__content {\n",
       "  max-height: 0;\n",
       "  max-width: 0;\n",
       "  overflow: hidden;\n",
       "  text-align: left;\n",
       "  /* unfitted */\n",
       "  background-color: var(--sklearn-color-unfitted-level-0);\n",
       "}\n",
       "\n",
       "#sk-container-id-2 div.sk-toggleable__content.fitted {\n",
       "  /* fitted */\n",
       "  background-color: var(--sklearn-color-fitted-level-0);\n",
       "}\n",
       "\n",
       "#sk-container-id-2 div.sk-toggleable__content pre {\n",
       "  margin: 0.2em;\n",
       "  border-radius: 0.25em;\n",
       "  color: var(--sklearn-color-text);\n",
       "  /* unfitted */\n",
       "  background-color: var(--sklearn-color-unfitted-level-0);\n",
       "}\n",
       "\n",
       "#sk-container-id-2 div.sk-toggleable__content.fitted pre {\n",
       "  /* unfitted */\n",
       "  background-color: var(--sklearn-color-fitted-level-0);\n",
       "}\n",
       "\n",
       "#sk-container-id-2 input.sk-toggleable__control:checked~div.sk-toggleable__content {\n",
       "  /* Expand drop-down */\n",
       "  max-height: 200px;\n",
       "  max-width: 100%;\n",
       "  overflow: auto;\n",
       "}\n",
       "\n",
       "#sk-container-id-2 input.sk-toggleable__control:checked~label.sk-toggleable__label-arrow:before {\n",
       "  content: \"▾\";\n",
       "}\n",
       "\n",
       "/* Pipeline/ColumnTransformer-specific style */\n",
       "\n",
       "#sk-container-id-2 div.sk-label input.sk-toggleable__control:checked~label.sk-toggleable__label {\n",
       "  color: var(--sklearn-color-text);\n",
       "  background-color: var(--sklearn-color-unfitted-level-2);\n",
       "}\n",
       "\n",
       "#sk-container-id-2 div.sk-label.fitted input.sk-toggleable__control:checked~label.sk-toggleable__label {\n",
       "  background-color: var(--sklearn-color-fitted-level-2);\n",
       "}\n",
       "\n",
       "/* Estimator-specific style */\n",
       "\n",
       "/* Colorize estimator box */\n",
       "#sk-container-id-2 div.sk-estimator input.sk-toggleable__control:checked~label.sk-toggleable__label {\n",
       "  /* unfitted */\n",
       "  background-color: var(--sklearn-color-unfitted-level-2);\n",
       "}\n",
       "\n",
       "#sk-container-id-2 div.sk-estimator.fitted input.sk-toggleable__control:checked~label.sk-toggleable__label {\n",
       "  /* fitted */\n",
       "  background-color: var(--sklearn-color-fitted-level-2);\n",
       "}\n",
       "\n",
       "#sk-container-id-2 div.sk-label label.sk-toggleable__label,\n",
       "#sk-container-id-2 div.sk-label label {\n",
       "  /* The background is the default theme color */\n",
       "  color: var(--sklearn-color-text-on-default-background);\n",
       "}\n",
       "\n",
       "/* On hover, darken the color of the background */\n",
       "#sk-container-id-2 div.sk-label:hover label.sk-toggleable__label {\n",
       "  color: var(--sklearn-color-text);\n",
       "  background-color: var(--sklearn-color-unfitted-level-2);\n",
       "}\n",
       "\n",
       "/* Label box, darken color on hover, fitted */\n",
       "#sk-container-id-2 div.sk-label.fitted:hover label.sk-toggleable__label.fitted {\n",
       "  color: var(--sklearn-color-text);\n",
       "  background-color: var(--sklearn-color-fitted-level-2);\n",
       "}\n",
       "\n",
       "/* Estimator label */\n",
       "\n",
       "#sk-container-id-2 div.sk-label label {\n",
       "  font-family: monospace;\n",
       "  font-weight: bold;\n",
       "  display: inline-block;\n",
       "  line-height: 1.2em;\n",
       "}\n",
       "\n",
       "#sk-container-id-2 div.sk-label-container {\n",
       "  text-align: center;\n",
       "}\n",
       "\n",
       "/* Estimator-specific */\n",
       "#sk-container-id-2 div.sk-estimator {\n",
       "  font-family: monospace;\n",
       "  border: 1px dotted var(--sklearn-color-border-box);\n",
       "  border-radius: 0.25em;\n",
       "  box-sizing: border-box;\n",
       "  margin-bottom: 0.5em;\n",
       "  /* unfitted */\n",
       "  background-color: var(--sklearn-color-unfitted-level-0);\n",
       "}\n",
       "\n",
       "#sk-container-id-2 div.sk-estimator.fitted {\n",
       "  /* fitted */\n",
       "  background-color: var(--sklearn-color-fitted-level-0);\n",
       "}\n",
       "\n",
       "/* on hover */\n",
       "#sk-container-id-2 div.sk-estimator:hover {\n",
       "  /* unfitted */\n",
       "  background-color: var(--sklearn-color-unfitted-level-2);\n",
       "}\n",
       "\n",
       "#sk-container-id-2 div.sk-estimator.fitted:hover {\n",
       "  /* fitted */\n",
       "  background-color: var(--sklearn-color-fitted-level-2);\n",
       "}\n",
       "\n",
       "/* Specification for estimator info (e.g. \"i\" and \"?\") */\n",
       "\n",
       "/* Common style for \"i\" and \"?\" */\n",
       "\n",
       ".sk-estimator-doc-link,\n",
       "a:link.sk-estimator-doc-link,\n",
       "a:visited.sk-estimator-doc-link {\n",
       "  float: right;\n",
       "  font-size: smaller;\n",
       "  line-height: 1em;\n",
       "  font-family: monospace;\n",
       "  background-color: var(--sklearn-color-background);\n",
       "  border-radius: 1em;\n",
       "  height: 1em;\n",
       "  width: 1em;\n",
       "  text-decoration: none !important;\n",
       "  margin-left: 0.5em;\n",
       "  text-align: center;\n",
       "  /* unfitted */\n",
       "  border: var(--sklearn-color-unfitted-level-1) 1pt solid;\n",
       "  color: var(--sklearn-color-unfitted-level-1);\n",
       "}\n",
       "\n",
       ".sk-estimator-doc-link.fitted,\n",
       "a:link.sk-estimator-doc-link.fitted,\n",
       "a:visited.sk-estimator-doc-link.fitted {\n",
       "  /* fitted */\n",
       "  border: var(--sklearn-color-fitted-level-1) 1pt solid;\n",
       "  color: var(--sklearn-color-fitted-level-1);\n",
       "}\n",
       "\n",
       "/* On hover */\n",
       "div.sk-estimator:hover .sk-estimator-doc-link:hover,\n",
       ".sk-estimator-doc-link:hover,\n",
       "div.sk-label-container:hover .sk-estimator-doc-link:hover,\n",
       ".sk-estimator-doc-link:hover {\n",
       "  /* unfitted */\n",
       "  background-color: var(--sklearn-color-unfitted-level-3);\n",
       "  color: var(--sklearn-color-background);\n",
       "  text-decoration: none;\n",
       "}\n",
       "\n",
       "div.sk-estimator.fitted:hover .sk-estimator-doc-link.fitted:hover,\n",
       ".sk-estimator-doc-link.fitted:hover,\n",
       "div.sk-label-container:hover .sk-estimator-doc-link.fitted:hover,\n",
       ".sk-estimator-doc-link.fitted:hover {\n",
       "  /* fitted */\n",
       "  background-color: var(--sklearn-color-fitted-level-3);\n",
       "  color: var(--sklearn-color-background);\n",
       "  text-decoration: none;\n",
       "}\n",
       "\n",
       "/* Span, style for the box shown on hovering the info icon */\n",
       ".sk-estimator-doc-link span {\n",
       "  display: none;\n",
       "  z-index: 9999;\n",
       "  position: relative;\n",
       "  font-weight: normal;\n",
       "  right: .2ex;\n",
       "  padding: .5ex;\n",
       "  margin: .5ex;\n",
       "  width: min-content;\n",
       "  min-width: 20ex;\n",
       "  max-width: 50ex;\n",
       "  color: var(--sklearn-color-text);\n",
       "  box-shadow: 2pt 2pt 4pt #999;\n",
       "  /* unfitted */\n",
       "  background: var(--sklearn-color-unfitted-level-0);\n",
       "  border: .5pt solid var(--sklearn-color-unfitted-level-3);\n",
       "}\n",
       "\n",
       ".sk-estimator-doc-link.fitted span {\n",
       "  /* fitted */\n",
       "  background: var(--sklearn-color-fitted-level-0);\n",
       "  border: var(--sklearn-color-fitted-level-3);\n",
       "}\n",
       "\n",
       ".sk-estimator-doc-link:hover span {\n",
       "  display: block;\n",
       "}\n",
       "\n",
       "/* \"?\"-specific style due to the `<a>` HTML tag */\n",
       "\n",
       "#sk-container-id-2 a.estimator_doc_link {\n",
       "  float: right;\n",
       "  font-size: 1rem;\n",
       "  line-height: 1em;\n",
       "  font-family: monospace;\n",
       "  background-color: var(--sklearn-color-background);\n",
       "  border-radius: 1rem;\n",
       "  height: 1rem;\n",
       "  width: 1rem;\n",
       "  text-decoration: none;\n",
       "  /* unfitted */\n",
       "  color: var(--sklearn-color-unfitted-level-1);\n",
       "  border: var(--sklearn-color-unfitted-level-1) 1pt solid;\n",
       "}\n",
       "\n",
       "#sk-container-id-2 a.estimator_doc_link.fitted {\n",
       "  /* fitted */\n",
       "  border: var(--sklearn-color-fitted-level-1) 1pt solid;\n",
       "  color: var(--sklearn-color-fitted-level-1);\n",
       "}\n",
       "\n",
       "/* On hover */\n",
       "#sk-container-id-2 a.estimator_doc_link:hover {\n",
       "  /* unfitted */\n",
       "  background-color: var(--sklearn-color-unfitted-level-3);\n",
       "  color: var(--sklearn-color-background);\n",
       "  text-decoration: none;\n",
       "}\n",
       "\n",
       "#sk-container-id-2 a.estimator_doc_link.fitted:hover {\n",
       "  /* fitted */\n",
       "  background-color: var(--sklearn-color-fitted-level-3);\n",
       "}\n",
       "</style><div id=\"sk-container-id-2\" class=\"sk-top-container\"><div class=\"sk-text-repr-fallback\"><pre>RandomForestClassifier(min_samples_split=30, n_jobs=-1)</pre><b>In a Jupyter environment, please rerun this cell to show the HTML representation or trust the notebook. <br />On GitHub, the HTML representation is unable to render, please try loading this page with nbviewer.org.</b></div><div class=\"sk-container\" hidden><div class=\"sk-item\"><div class=\"sk-estimator fitted sk-toggleable\"><input class=\"sk-toggleable__control sk-hidden--visually\" id=\"sk-estimator-id-2\" type=\"checkbox\" checked><label for=\"sk-estimator-id-2\" class=\"sk-toggleable__label fitted sk-toggleable__label-arrow\"><div><div>RandomForestClassifier</div></div><div><a class=\"sk-estimator-doc-link fitted\" rel=\"noreferrer\" target=\"_blank\" href=\"https://scikit-learn.org/1.6/modules/generated/sklearn.ensemble.RandomForestClassifier.html\">?<span>Documentation for RandomForestClassifier</span></a><span class=\"sk-estimator-doc-link fitted\">i<span>Fitted</span></span></div></label><div class=\"sk-toggleable__content fitted\"><pre>RandomForestClassifier(min_samples_split=30, n_jobs=-1)</pre></div> </div></div></div></div>"
      ],
      "text/plain": [
       "RandomForestClassifier(min_samples_split=30, n_jobs=-1)"
      ]
     },
     "execution_count": 92,
     "metadata": {},
     "output_type": "execute_result"
    }
   ],
   "source": [
    "from sklearn.ensemble import RandomForestClassifier \n",
    "random_forest = RandomForestClassifier(n_estimators=100, \n",
    "                                       criterion='gini', min_samples_split=30, n_jobs=-1) \n",
    "random_forest.fit(X_train_enc.toarray(),Y_train)"
   ]
  },
  {
   "cell_type": "markdown",
   "id": "71449655-1e15-43a7-a297-392ecf1085b8",
   "metadata": {},
   "source": [
    "#### After fitting the random forest model, we get the following feature importance scores:"
   ]
  },
  {
   "cell_type": "code",
   "execution_count": 109,
   "id": "5bff344d-053d-45f7-85f0-18ada12dd20c",
   "metadata": {},
   "outputs": [
    {
     "name": "stdout",
     "output_type": "stream",
     "text": [
      "[1.62882645e-05 1.20413413e-03 1.18461781e-03 ... 6.26667623e-04\n",
      " 4.99709179e-04 8.10215256e-03]\n"
     ]
    }
   ],
   "source": [
    "feature_imp = random_forest.feature_importances_\n",
    "print(feature_imp)"
   ]
  },
  {
   "cell_type": "markdown",
   "id": "1c925459-d6f7-4a1c-9845-5ede18a1a6b3",
   "metadata": {},
   "source": [
    "#### The bottom 10 feature scores and the corresponding 10 least important features:"
   ]
  },
  {
   "cell_type": "code",
   "execution_count": 110,
   "id": "503f7478-9f3a-40e9-911a-faac7b015050",
   "metadata": {},
   "outputs": [
    {
     "name": "stdout",
     "output_type": "stream",
     "text": [
      "10 least important features are:\n",
      " ['x11_13780' 'x2_0865bdcb' 'x3_aebf429f' 'x2_09604652' 'x8_feba401a'\n",
      " 'x5_ce703ce9' 'x2_0c6adf5c' 'x11_12203' 'x8_a496f117' 'x5_31e6dbd8']\n"
     ]
    }
   ],
   "source": [
    "bottom_10 = np.argsort(feature_imp)[:10] \n",
    "print('10 least important features are:\\n', feature_names[bottom_10])"
   ]
  },
  {
   "cell_type": "markdown",
   "id": "06d343bf-0715-4f46-adaf-7b2927dfd081",
   "metadata": {},
   "source": [
    "#### Looking at the top 10 feature scores and corresponding top 10 most important features we get:"
   ]
  },
  {
   "cell_type": "code",
   "execution_count": 113,
   "id": "7e1a5c71-5746-4f2f-8bc5-89e2086517c4",
   "metadata": {},
   "outputs": [
    {
     "name": "stdout",
     "output_type": "stream",
     "text": [
      "10 most important features are:\n",
      " ['x18_157' 'x16_1063' 'x17_-1' 'x3_98572c79' 'x8_8a4875bd' 'x18_33'\n",
      " 'x12_300' 'x14_1993' 'x2_d9750ee7' 'x15_2']\n"
     ]
    }
   ],
   "source": [
    "top_10 = np.argsort(feature_imp)[-10:]\n",
    "print('10 most important features are:\\n', feature_names[top_10])"
   ]
  },
  {
   "cell_type": "code",
   "execution_count": null,
   "id": "243db833-0fe9-469e-a126-51172bb6b258",
   "metadata": {},
   "outputs": [],
   "source": []
  }
 ],
 "metadata": {
  "kernelspec": {
   "display_name": "Python 3 (ipykernel)",
   "language": "python",
   "name": "python3"
  },
  "language_info": {
   "codemirror_mode": {
    "name": "ipython",
    "version": 3
   },
   "file_extension": ".py",
   "mimetype": "text/x-python",
   "name": "python",
   "nbconvert_exporter": "python",
   "pygments_lexer": "ipython3",
   "version": "3.10.13"
  }
 },
 "nbformat": 4,
 "nbformat_minor": 5
}
